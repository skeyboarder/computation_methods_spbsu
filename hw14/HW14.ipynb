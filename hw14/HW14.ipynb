{
 "cells": [
  {
   "cell_type": "code",
   "execution_count": 13,
   "id": "6fcc4020",
   "metadata": {},
   "outputs": [],
   "source": [
    "import numpy as np\n",
    "import math"
   ]
  },
  {
   "cell_type": "code",
   "execution_count": 16,
   "id": "2b71739d",
   "metadata": {},
   "outputs": [],
   "source": [
    "def gradient_descent(gradient_func, start, learn_rate, n_iter=10000, tolerance=1e-06):\n",
    "    vector = start\n",
    "    for _ in range(n_iter):\n",
    "        diff = -learn_rate * gradient_func(vector)\n",
    "        if np.all(np.abs(diff) <= tolerance):\n",
    "            print(\"итераций:\",_)\n",
    "            break\n",
    "        vector += diff\n",
    "    return vector"
   ]
  },
  {
   "cell_type": "code",
   "execution_count": 31,
   "id": "c87782d4",
   "metadata": {},
   "outputs": [],
   "source": [
    "def nesterov_descent(gradient_func, start, learn_rate, tolerance=1e-06):\n",
    "\n",
    "    x=start\n",
    "    lambda_prev = 0\n",
    "    lambda_curr = 1\n",
    "    gamma = 1\n",
    "    y_prev = x\n",
    "    alpha = 0.05 / 2\n",
    "    gradient=gradient_func(x)\n",
    "    n_iter=0\n",
    "    \n",
    "    while np.linalg.norm(gradient) >= tolerance:\n",
    "        y_curr = x - alpha * gradient\n",
    "        x = (1 - gamma) * y_curr + gamma * y_prev\n",
    "        y_prev = y_curr\n",
    "\n",
    "        lambda_tmp = lambda_curr\n",
    "        lambda_curr = (1 + math.sqrt(1 + 4 * lambda_prev * lambda_prev)) / 2\n",
    "        lambda_prev = lambda_tmp\n",
    "\n",
    "        gamma = (1 - lambda_prev) / lambda_curr\n",
    "\n",
    "        gradient = gradient_func(x)\n",
    "        n_iter=n_iter+1\n",
    "    print(\"итераций:\",n_iter)\n",
    "    return x"
   ]
  },
  {
   "cell_type": "code",
   "execution_count": 37,
   "id": "d1f7392f",
   "metadata": {
    "scrolled": true
   },
   "outputs": [
    {
     "name": "stdout",
     "output_type": "stream",
     "text": [
      "итераций: 203\n"
     ]
    },
    {
     "data": {
      "text/plain": [
       "-3.2256430674964025e-07"
      ]
     },
     "execution_count": 37,
     "metadata": {},
     "output_type": "execute_result"
    }
   ],
   "source": [
    "nesterov_descent(gradient_func=lambda x: 2 * x, start=10.0, learn_rate=0.02)"
   ]
  },
  {
   "cell_type": "code",
   "execution_count": 39,
   "id": "e5322ea7",
   "metadata": {
    "scrolled": true
   },
   "outputs": [
    {
     "name": "stdout",
     "output_type": "stream",
     "text": [
      "итераций: 30\n"
     ]
    },
    {
     "data": {
      "text/plain": [
       "2.210739197207331e-06"
      ]
     },
     "execution_count": 39,
     "metadata": {},
     "output_type": "execute_result"
    }
   ],
   "source": [
    "gradient_descent(gradient_func=lambda x: 2 * x, start=10.0, learn_rate=0.2)"
   ]
  },
  {
   "cell_type": "code",
   "execution_count": 42,
   "id": "111a8008",
   "metadata": {},
   "outputs": [
    {
     "name": "stdout",
     "output_type": "stream",
     "text": [
      "итераций: 529\n"
     ]
    },
    {
     "data": {
      "text/plain": [
       "-23.561945931781857"
      ]
     },
     "execution_count": 42,
     "metadata": {},
     "output_type": "execute_result"
    }
   ],
   "source": [
    "nesterov_descent(gradient_func=lambda x: 10 * math.cos(x / 15), start=10.0, learn_rate=0.1)"
   ]
  },
  {
   "cell_type": "code",
   "execution_count": 41,
   "id": "22080aaa",
   "metadata": {},
   "outputs": [
    {
     "data": {
      "text/plain": [
       "-23.507333508560606"
      ]
     },
     "execution_count": 41,
     "metadata": {},
     "output_type": "execute_result"
    }
   ],
   "source": [
    "gradient_descent(gradient_func=lambda x: 10 * math.cos(x / 15), start=10.0, learn_rate=0.2)"
   ]
  }
 ],
 "metadata": {
  "kernelspec": {
   "display_name": "Python 3 (ipykernel)",
   "language": "python",
   "name": "python3"
  },
  "language_info": {
   "codemirror_mode": {
    "name": "ipython",
    "version": 3
   },
   "file_extension": ".py",
   "mimetype": "text/x-python",
   "name": "python",
   "nbconvert_exporter": "python",
   "pygments_lexer": "ipython3",
   "version": "3.9.6"
  },
  "toc": {
   "base_numbering": 1,
   "nav_menu": {},
   "number_sections": false,
   "sideBar": true,
   "skip_h1_title": false,
   "title_cell": "Table of Contents",
   "title_sidebar": "Contents",
   "toc_cell": false,
   "toc_position": {},
   "toc_section_display": true,
   "toc_window_display": false
  }
 },
 "nbformat": 4,
 "nbformat_minor": 5
}
