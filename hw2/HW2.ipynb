{
 "cells": [
  {
   "cell_type": "code",
   "execution_count": 2,
   "id": "bb222bab",
   "metadata": {},
   "outputs": [],
   "source": [
    "import numpy as np\n",
    "import pandas as pd\n",
    "from scipy import linalg\n",
    "from math import sqrt\n",
    "from tabulate import tabulate\n",
    "\n"
   ]
  },
  {
   "cell_type": "code",
   "execution_count": 3,
   "id": "ffd25f40",
   "metadata": {},
   "outputs": [],
   "source": [
    "np.set_printoptions(formatter={'float_kind':\"{:.8f}\".format})\n",
    "pd.options.display.float_format = '{:.8f}'.format"
   ]
  },
  {
   "cell_type": "markdown",
   "id": "59f5d867",
   "metadata": {},
   "source": [
    "# Data creation"
   ]
  },
  {
   "cell_type": "code",
   "execution_count": 4,
   "id": "a8e67c77",
   "metadata": {},
   "outputs": [],
   "source": [
    "# def b(a):\n",
    "#     size=a.shape[0]\n",
    "#     return np.random.randint(100, size=(size))"
   ]
  },
  {
   "cell_type": "code",
   "execution_count": 5,
   "id": "c9a63287",
   "metadata": {},
   "outputs": [],
   "source": [
    "def pretty_view(a):\n",
    "    pret=pd.DataFrame(data=a, index=list(range(1, a.shape[0]+1)), columns=list(range(1, a.shape[1]+1)))\n",
    "#     pret['b']=b\n",
    "    display(pret)"
   ]
  },
  {
   "cell_type": "code",
   "execution_count": 6,
   "id": "29b74ac6",
   "metadata": {},
   "outputs": [
    {
     "data": {
      "text/html": [
       "<div>\n",
       "<style scoped>\n",
       "    .dataframe tbody tr th:only-of-type {\n",
       "        vertical-align: middle;\n",
       "    }\n",
       "\n",
       "    .dataframe tbody tr th {\n",
       "        vertical-align: top;\n",
       "    }\n",
       "\n",
       "    .dataframe thead th {\n",
       "        text-align: right;\n",
       "    }\n",
       "</style>\n",
       "<table border=\"1\" class=\"dataframe\">\n",
       "  <thead>\n",
       "    <tr style=\"text-align: right;\">\n",
       "      <th></th>\n",
       "      <th>1</th>\n",
       "      <th>2</th>\n",
       "      <th>3</th>\n",
       "    </tr>\n",
       "  </thead>\n",
       "  <tbody>\n",
       "    <tr>\n",
       "      <th>1</th>\n",
       "      <td>1.00000000</td>\n",
       "      <td>0.50000000</td>\n",
       "      <td>0.33333333</td>\n",
       "    </tr>\n",
       "    <tr>\n",
       "      <th>2</th>\n",
       "      <td>0.50000000</td>\n",
       "      <td>0.33333333</td>\n",
       "      <td>0.25000000</td>\n",
       "    </tr>\n",
       "    <tr>\n",
       "      <th>3</th>\n",
       "      <td>0.33333333</td>\n",
       "      <td>0.25000000</td>\n",
       "      <td>0.20000000</td>\n",
       "    </tr>\n",
       "  </tbody>\n",
       "</table>\n",
       "</div>"
      ],
      "text/plain": [
       "           1          2          3\n",
       "1 1.00000000 0.50000000 0.33333333\n",
       "2 0.50000000 0.33333333 0.25000000\n",
       "3 0.33333333 0.25000000 0.20000000"
      ]
     },
     "metadata": {},
     "output_type": "display_data"
    }
   ],
   "source": [
    "h3=linalg.hilbert(3)\n",
    "# b3=b(h3)\n",
    "pretty_view(h3)"
   ]
  },
  {
   "cell_type": "code",
   "execution_count": 7,
   "id": "cffef3c6",
   "metadata": {},
   "outputs": [
    {
     "data": {
      "text/html": [
       "<div>\n",
       "<style scoped>\n",
       "    .dataframe tbody tr th:only-of-type {\n",
       "        vertical-align: middle;\n",
       "    }\n",
       "\n",
       "    .dataframe tbody tr th {\n",
       "        vertical-align: top;\n",
       "    }\n",
       "\n",
       "    .dataframe thead th {\n",
       "        text-align: right;\n",
       "    }\n",
       "</style>\n",
       "<table border=\"1\" class=\"dataframe\">\n",
       "  <thead>\n",
       "    <tr style=\"text-align: right;\">\n",
       "      <th></th>\n",
       "      <th>1</th>\n",
       "      <th>2</th>\n",
       "      <th>3</th>\n",
       "      <th>4</th>\n",
       "    </tr>\n",
       "  </thead>\n",
       "  <tbody>\n",
       "    <tr>\n",
       "      <th>1</th>\n",
       "      <td>1.00000000</td>\n",
       "      <td>0.50000000</td>\n",
       "      <td>0.33333333</td>\n",
       "      <td>0.25000000</td>\n",
       "    </tr>\n",
       "    <tr>\n",
       "      <th>2</th>\n",
       "      <td>0.50000000</td>\n",
       "      <td>0.33333333</td>\n",
       "      <td>0.25000000</td>\n",
       "      <td>0.20000000</td>\n",
       "    </tr>\n",
       "    <tr>\n",
       "      <th>3</th>\n",
       "      <td>0.33333333</td>\n",
       "      <td>0.25000000</td>\n",
       "      <td>0.20000000</td>\n",
       "      <td>0.16666667</td>\n",
       "    </tr>\n",
       "    <tr>\n",
       "      <th>4</th>\n",
       "      <td>0.25000000</td>\n",
       "      <td>0.20000000</td>\n",
       "      <td>0.16666667</td>\n",
       "      <td>0.14285714</td>\n",
       "    </tr>\n",
       "  </tbody>\n",
       "</table>\n",
       "</div>"
      ],
      "text/plain": [
       "           1          2          3          4\n",
       "1 1.00000000 0.50000000 0.33333333 0.25000000\n",
       "2 0.50000000 0.33333333 0.25000000 0.20000000\n",
       "3 0.33333333 0.25000000 0.20000000 0.16666667\n",
       "4 0.25000000 0.20000000 0.16666667 0.14285714"
      ]
     },
     "metadata": {},
     "output_type": "display_data"
    }
   ],
   "source": [
    "h4=linalg.hilbert(4)\n",
    "# b4=b(h4)\n",
    "pretty_view(h4)"
   ]
  },
  {
   "cell_type": "code",
   "execution_count": 8,
   "id": "8c7a7d20",
   "metadata": {},
   "outputs": [
    {
     "data": {
      "text/html": [
       "<div>\n",
       "<style scoped>\n",
       "    .dataframe tbody tr th:only-of-type {\n",
       "        vertical-align: middle;\n",
       "    }\n",
       "\n",
       "    .dataframe tbody tr th {\n",
       "        vertical-align: top;\n",
       "    }\n",
       "\n",
       "    .dataframe thead th {\n",
       "        text-align: right;\n",
       "    }\n",
       "</style>\n",
       "<table border=\"1\" class=\"dataframe\">\n",
       "  <thead>\n",
       "    <tr style=\"text-align: right;\">\n",
       "      <th></th>\n",
       "      <th>1</th>\n",
       "      <th>2</th>\n",
       "      <th>3</th>\n",
       "      <th>4</th>\n",
       "      <th>5</th>\n",
       "    </tr>\n",
       "  </thead>\n",
       "  <tbody>\n",
       "    <tr>\n",
       "      <th>1</th>\n",
       "      <td>1.00000000</td>\n",
       "      <td>0.50000000</td>\n",
       "      <td>0.33333333</td>\n",
       "      <td>0.25000000</td>\n",
       "      <td>0.20000000</td>\n",
       "    </tr>\n",
       "    <tr>\n",
       "      <th>2</th>\n",
       "      <td>0.50000000</td>\n",
       "      <td>0.33333333</td>\n",
       "      <td>0.25000000</td>\n",
       "      <td>0.20000000</td>\n",
       "      <td>0.16666667</td>\n",
       "    </tr>\n",
       "    <tr>\n",
       "      <th>3</th>\n",
       "      <td>0.33333333</td>\n",
       "      <td>0.25000000</td>\n",
       "      <td>0.20000000</td>\n",
       "      <td>0.16666667</td>\n",
       "      <td>0.14285714</td>\n",
       "    </tr>\n",
       "    <tr>\n",
       "      <th>4</th>\n",
       "      <td>0.25000000</td>\n",
       "      <td>0.20000000</td>\n",
       "      <td>0.16666667</td>\n",
       "      <td>0.14285714</td>\n",
       "      <td>0.12500000</td>\n",
       "    </tr>\n",
       "    <tr>\n",
       "      <th>5</th>\n",
       "      <td>0.20000000</td>\n",
       "      <td>0.16666667</td>\n",
       "      <td>0.14285714</td>\n",
       "      <td>0.12500000</td>\n",
       "      <td>0.11111111</td>\n",
       "    </tr>\n",
       "  </tbody>\n",
       "</table>\n",
       "</div>"
      ],
      "text/plain": [
       "           1          2          3          4          5\n",
       "1 1.00000000 0.50000000 0.33333333 0.25000000 0.20000000\n",
       "2 0.50000000 0.33333333 0.25000000 0.20000000 0.16666667\n",
       "3 0.33333333 0.25000000 0.20000000 0.16666667 0.14285714\n",
       "4 0.25000000 0.20000000 0.16666667 0.14285714 0.12500000\n",
       "5 0.20000000 0.16666667 0.14285714 0.12500000 0.11111111"
      ]
     },
     "metadata": {},
     "output_type": "display_data"
    }
   ],
   "source": [
    "h5=linalg.hilbert(5)\n",
    "# b5=b(h5)\n",
    "pretty_view(h5)"
   ]
  },
  {
   "cell_type": "code",
   "execution_count": 9,
   "id": "4d1eedae",
   "metadata": {},
   "outputs": [],
   "source": [
    "def count_b(L, x):  # считаем b для последующих вычислений\n",
    "    b = np.dot(L, x) # a dot b = sum(ai*bi)\n",
    "    return b"
   ]
  },
  {
   "cell_type": "code",
   "execution_count": 10,
   "id": "5202ee36",
   "metadata": {},
   "outputs": [],
   "source": [
    "def sqrt_method(A):  # Находим L из А\n",
    "    L = np.zeros((A.shape[0], A.shape[0]))\n",
    "    for i in range(A.shape[0]):\n",
    "        for j in range(i):\n",
    "            temp = 0\n",
    "            for k in range(j):\n",
    "                temp += L[i][k] * L[j][k]\n",
    "            L[i][j] = (A[i][j] - temp) / L[j][j]\n",
    "        temp = A[i][i]\n",
    "        for k in range(i):\n",
    "            temp -= L[i][k] * L[i][k]\n",
    "        L[i][i] = sqrt(temp)\n",
    "    return L"
   ]
  },
  {
   "cell_type": "code",
   "execution_count": 11,
   "id": "9faed39f",
   "metadata": {},
   "outputs": [],
   "source": [
    "def solve(L, b):  # решаем регуляризационную систему, находим x, y\n",
    "    y = np.linalg.solve(L, b)\n",
    "    x = np.linalg.solve(L.transpose(), y)\n",
    "    return x"
   ]
  },
  {
   "cell_type": "code",
   "execution_count": 12,
   "id": "d971e1ca",
   "metadata": {},
   "outputs": [],
   "source": [
    "def variation_matrix(A, alpha, b, x, df=[]):\n",
    "    df.append([alpha, np.linalg.cond(A), np.linalg.cond(A + alpha * np.eye(A.shape[0])),\n",
    "                 np.linalg.norm(x - solve(sqrt_method(A + alpha * np.eye(A.shape[0])), b))])\n",
    "    return df\n"
   ]
  },
  {
   "cell_type": "code",
   "execution_count": 13,
   "id": "0848c581",
   "metadata": {},
   "outputs": [],
   "source": [
    "def print_all(A, df, alpha, diff_matr): # строим красивые таблички\n",
    "    print(\"Матрица:\")\n",
    "    print(*A, sep='\\n')\n",
    "    print()\n",
    "    print(tabulate(df, headers=['alpha', 'cond(A)', 'cond(A + alpha * E)', '||x - x_a||'],\n",
    "                    tablefmt='fancy_grid', numalign=\"right\"))\n",
    "    print()\n",
    "    print(\"Наилучшее значение alpha =\", alpha)\n",
    "    print()\n",
    "    print(\"||x - x_a|| для различных матриц:\")\n",
    "    print(tabulate(diff_matr,\n",
    "                   headers=['Ax = b', 'A + alpha * x = b', 'A + 10 * alpha * x = b', 'A + 0.1 * alpha * x = b'],\n",
    "                   tablefmt='fancy_grid', numalign=\"right\"))\n",
    "    print()"
   ]
  },
  {
   "cell_type": "code",
   "execution_count": 20,
   "id": "07c3483c",
   "metadata": {},
   "outputs": [],
   "source": [
    "def final_count(data):\n",
    "    A = np.array(data, dtype=float)\n",
    "    x = np.ones(A.shape[0])\n",
    "    b = count_b(A, x)\n",
    "    for i in (-2, -3, -5, -7, -9, -12):\n",
    "        variation_matrix(A, 10 ** i, b, x)\n",
    "    x = np.random.uniform(0, 100, size=A.shape[0])\n",
    "    b = count_b(A, x)\n",
    "    min_diff = df[0][3]\n",
    "    for i in range(len(df)):\n",
    "        if min_diff > df[i][3]:\n",
    "            min_diff = df[i][3]\n",
    "            alpha = df[i][0]\n",
    "    diff_matr = [[np.linalg.norm(x - solve(sqrt_method(A), b)),\n",
    "                  np.linalg.norm(x - solve(sqrt_method(A + alpha * np.eye(A.shape[0])), b)), # eye делает квадратную матрицу с единицами на диагонали\n",
    "                  np.linalg.norm(x - solve(sqrt_method(A + 10 * alpha * np.eye(A.shape[0])), b)),\n",
    "                  np.linalg.norm(x - solve(sqrt_method(A + 0.1 * alpha * np.eye(A.shape[0])), b))]]\n",
    "    return print_all(A, df, alpha, diff_matr)\n"
   ]
  },
  {
   "cell_type": "code",
   "execution_count": 21,
   "id": "a4718157",
   "metadata": {},
   "outputs": [
    {
     "ename": "NameError",
     "evalue": "name 'df' is not defined",
     "output_type": "error",
     "traceback": [
      "\u001b[0;31m---------------------------------------------------------------------------\u001b[0m",
      "\u001b[0;31mNameError\u001b[0m                                 Traceback (most recent call last)",
      "\u001b[0;32m/tmp/ipykernel_22055/2775305236.py\u001b[0m in \u001b[0;36m<module>\u001b[0;34m\u001b[0m\n\u001b[0;32m----> 1\u001b[0;31m \u001b[0mfinal_count\u001b[0m\u001b[0;34m(\u001b[0m\u001b[0mh3\u001b[0m\u001b[0;34m)\u001b[0m\u001b[0;34m\u001b[0m\u001b[0;34m\u001b[0m\u001b[0m\n\u001b[0m",
      "\u001b[0;32m/tmp/ipykernel_22055/1621880426.py\u001b[0m in \u001b[0;36mfinal_count\u001b[0;34m(data)\u001b[0m\n\u001b[1;32m      7\u001b[0m     \u001b[0mx\u001b[0m \u001b[0;34m=\u001b[0m \u001b[0mnp\u001b[0m\u001b[0;34m.\u001b[0m\u001b[0mrandom\u001b[0m\u001b[0;34m.\u001b[0m\u001b[0muniform\u001b[0m\u001b[0;34m(\u001b[0m\u001b[0;36m0\u001b[0m\u001b[0;34m,\u001b[0m \u001b[0;36m100\u001b[0m\u001b[0;34m,\u001b[0m \u001b[0msize\u001b[0m\u001b[0;34m=\u001b[0m\u001b[0mA\u001b[0m\u001b[0;34m.\u001b[0m\u001b[0mshape\u001b[0m\u001b[0;34m[\u001b[0m\u001b[0;36m0\u001b[0m\u001b[0;34m]\u001b[0m\u001b[0;34m)\u001b[0m\u001b[0;34m\u001b[0m\u001b[0;34m\u001b[0m\u001b[0m\n\u001b[1;32m      8\u001b[0m     \u001b[0mb\u001b[0m \u001b[0;34m=\u001b[0m \u001b[0mcount_b\u001b[0m\u001b[0;34m(\u001b[0m\u001b[0mA\u001b[0m\u001b[0;34m,\u001b[0m \u001b[0mx\u001b[0m\u001b[0;34m)\u001b[0m\u001b[0;34m\u001b[0m\u001b[0;34m\u001b[0m\u001b[0m\n\u001b[0;32m----> 9\u001b[0;31m     \u001b[0mmin_diff\u001b[0m \u001b[0;34m=\u001b[0m \u001b[0mdf\u001b[0m\u001b[0;34m[\u001b[0m\u001b[0;36m0\u001b[0m\u001b[0;34m]\u001b[0m\u001b[0;34m[\u001b[0m\u001b[0;36m3\u001b[0m\u001b[0;34m]\u001b[0m\u001b[0;34m\u001b[0m\u001b[0;34m\u001b[0m\u001b[0m\n\u001b[0m\u001b[1;32m     10\u001b[0m     \u001b[0;32mfor\u001b[0m \u001b[0mi\u001b[0m \u001b[0;32min\u001b[0m \u001b[0mrange\u001b[0m\u001b[0;34m(\u001b[0m\u001b[0mlen\u001b[0m\u001b[0;34m(\u001b[0m\u001b[0mdf\u001b[0m\u001b[0;34m)\u001b[0m\u001b[0;34m)\u001b[0m\u001b[0;34m:\u001b[0m\u001b[0;34m\u001b[0m\u001b[0;34m\u001b[0m\u001b[0m\n\u001b[1;32m     11\u001b[0m         \u001b[0;32mif\u001b[0m \u001b[0mmin_diff\u001b[0m \u001b[0;34m>\u001b[0m \u001b[0mdf\u001b[0m\u001b[0;34m[\u001b[0m\u001b[0mi\u001b[0m\u001b[0;34m]\u001b[0m\u001b[0;34m[\u001b[0m\u001b[0;36m3\u001b[0m\u001b[0;34m]\u001b[0m\u001b[0;34m:\u001b[0m\u001b[0;34m\u001b[0m\u001b[0;34m\u001b[0m\u001b[0m\n",
      "\u001b[0;31mNameError\u001b[0m: name 'df' is not defined"
     ]
    }
   ],
   "source": [
    "final_count(h3)"
   ]
  },
  {
   "cell_type": "code",
   "execution_count": null,
   "id": "84251ba6",
   "metadata": {},
   "outputs": [],
   "source": [
    "final_count(h4)"
   ]
  },
  {
   "cell_type": "code",
   "execution_count": null,
   "id": "aa7e775a",
   "metadata": {},
   "outputs": [],
   "source": [
    "final_count(h5)"
   ]
  }
 ],
 "metadata": {
  "kernelspec": {
   "display_name": "Python 3 (ipykernel)",
   "language": "python",
   "name": "python3"
  },
  "language_info": {
   "codemirror_mode": {
    "name": "ipython",
    "version": 3
   },
   "file_extension": ".py",
   "mimetype": "text/x-python",
   "name": "python",
   "nbconvert_exporter": "python",
   "pygments_lexer": "ipython3",
   "version": "3.9.6"
  },
  "toc": {
   "base_numbering": 1,
   "nav_menu": {},
   "number_sections": false,
   "sideBar": true,
   "skip_h1_title": false,
   "title_cell": "Table of Contents",
   "title_sidebar": "Contents",
   "toc_cell": false,
   "toc_position": {},
   "toc_section_display": true,
   "toc_window_display": false
  }
 },
 "nbformat": 4,
 "nbformat_minor": 5
}
