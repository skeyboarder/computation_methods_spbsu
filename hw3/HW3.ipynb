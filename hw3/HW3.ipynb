{
 "cells": [
  {
   "cell_type": "code",
   "execution_count": 1,
   "id": "5df309fe",
   "metadata": {},
   "outputs": [],
   "source": [
    "import numpy as np\n",
    "import pandas as pd\n",
    "from scipy import linalg\n",
    "from math import sqrt\n",
    "from tabulate import tabulate"
   ]
  },
  {
   "cell_type": "code",
   "execution_count": 5,
   "id": "48562bb4",
   "metadata": {},
   "outputs": [],
   "source": [
    "np.set_printoptions(formatter={'float_kind':\"{:.8f}\".format})\n",
    "pd.options.display.float_format = '{:.8f}'.format"
   ]
  },
  {
   "cell_type": "code",
   "execution_count": 4,
   "id": "02457a5f",
   "metadata": {},
   "outputs": [],
   "source": [
    "def pretty_view(a):\n",
    "    pret=pd.DataFrame(data=a, index=list(range(1, a.shape[0]+1)), columns=list(range(1, a.shape[1]+1)))\n",
    "    display(pret)"
   ]
  },
  {
   "cell_type": "code",
   "execution_count": 2,
   "id": "db61e463",
   "metadata": {},
   "outputs": [],
   "source": [
    "def count_b(A, x):  # считаем b для последующих вычислений\n",
    "    b = np.dot(A, x)\n",
    "    return b"
   ]
  },
  {
   "cell_type": "code",
   "execution_count": 9,
   "id": "37c959c6",
   "metadata": {},
   "outputs": [],
   "source": [
    "def sqrt_method(A):  # Находим L из А\n",
    "    L = np.zeros((A.shape[0], A.shape[0]))\n",
    "    for i in range(A.shape[0]):\n",
    "        for j in range(i):\n",
    "            temp = 0\n",
    "            for k in range(j):\n",
    "                temp += L[i][k] * L[j][k]\n",
    "            L[i][j] = (A[i][j] - temp) / L[j][j]\n",
    "        temp = A[i][i]\n",
    "        for k in range(i):\n",
    "            temp -= L[i][k] * L[i][k]\n",
    "        L[i][i] = sqrt(temp)\n",
    "    return L"
   ]
  },
  {
   "cell_type": "code",
   "execution_count": 8,
   "id": "05b318f6",
   "metadata": {},
   "outputs": [],
   "source": [
    "def solve(L, b):  # решаем регуляризационную систему, находим x, y\n",
    "    y = np.linalg.solve(L, b)\n",
    "    x = np.linalg.solve(L.transpose(), y)\n",
    "    return x"
   ]
  },
  {
   "cell_type": "code",
   "execution_count": 6,
   "id": "e188a432",
   "metadata": {},
   "outputs": [],
   "source": [
    "def rotation_method(A, b):  # реализация метода вращений\n",
    "    q = np.column_stack([A, b]) # собирает из колонок матрицу, колонки соединяются в том порядке, который указан\n",
    "    for i in range(q.shape[0] - 1):\n",
    "        for j in range(i + 1, q.shape[0]):\n",
    "            c = q[i, i] / (q[i, i] ** 2 + q[j, i] ** 2) ** (1/2)\n",
    "            s = q[j, i] / (q[i, i] ** 2 + q[j, i] ** 2) ** (1/2)\n",
    "            tmp = q[i, :] * c + q[j, :] * s\n",
    "            q[j, :] = q[i, :] * -s + q[j, :] * c\n",
    "            q[i, :] = tmp\n",
    "    x = np.linalg.solve(q[:, :-1], q[:, -1])\n",
    "    return x"
   ]
  },
  {
   "cell_type": "code",
   "execution_count": 17,
   "id": "304e7839",
   "metadata": {},
   "outputs": [],
   "source": [
    "table=[['Порядок', \"x - x_rot\", 'x - x_sqrt']]\n",
    "for n in (3, 4, 5, 10):\n",
    "    row=[]\n",
    "    row.append(n)\n",
    "    A = linalg.hilbert(n)\n",
    "    x = np.random.uniform(0, 100, size=A.shape[0])\n",
    "    b = count_b(A, x)\n",
    "    x_rot = rotation_method(A, b)\n",
    "    x_rot = np.linalg.norm(x - x_rot)\n",
    "    row.append(x_rot)\n",
    "    x_sqrt= np.linalg.norm(x - solve(sqrt_method(A), b))\n",
    "    row.append(x_sqrt)\n",
    "    table.append(row)"
   ]
  },
  {
   "cell_type": "code",
   "execution_count": 18,
   "id": "9f89240c",
   "metadata": {},
   "outputs": [
    {
     "name": "stdout",
     "output_type": "stream",
     "text": [
      "╒═════════╤════════════════════════╤════════════════════════╕\n",
      "│ Порядок │ x - x_rot              │ x - x_sqrt             │\n",
      "├─────────┼────────────────────────┼────────────────────────┤\n",
      "│ 3       │ 3.911434501196473e-12  │ 2.602820459648654e-12  │\n",
      "├─────────┼────────────────────────┼────────────────────────┤\n",
      "│ 4       │ 7.604680583663828e-11  │ 8.593673709481708e-11  │\n",
      "├─────────┼────────────────────────┼────────────────────────┤\n",
      "│ 5       │ 1.5124006574256817e-10 │ 3.4165585617978954e-10 │\n",
      "├─────────┼────────────────────────┼────────────────────────┤\n",
      "│ 10      │ 0.029068267913885528   │ 0.00022259959330804552 │\n",
      "╘═════════╧════════════════════════╧════════════════════════╛\n"
     ]
    }
   ],
   "source": [
    "print(tabulate(table, tablefmt='fancy_grid', numalign=\"right\"))"
   ]
  }
 ],
 "metadata": {
  "kernelspec": {
   "display_name": "Python 3 (ipykernel)",
   "language": "python",
   "name": "python3"
  },
  "language_info": {
   "codemirror_mode": {
    "name": "ipython",
    "version": 3
   },
   "file_extension": ".py",
   "mimetype": "text/x-python",
   "name": "python",
   "nbconvert_exporter": "python",
   "pygments_lexer": "ipython3",
   "version": "3.9.6"
  },
  "toc": {
   "base_numbering": 1,
   "nav_menu": {},
   "number_sections": false,
   "sideBar": true,
   "skip_h1_title": false,
   "title_cell": "Table of Contents",
   "title_sidebar": "Contents",
   "toc_cell": false,
   "toc_position": {},
   "toc_section_display": true,
   "toc_window_display": false
  }
 },
 "nbformat": 4,
 "nbformat_minor": 5
}
