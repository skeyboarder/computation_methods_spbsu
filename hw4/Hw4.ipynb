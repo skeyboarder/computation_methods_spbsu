{
 "cells": [
  {
   "cell_type": "code",
   "execution_count": 1,
   "id": "49da5528",
   "metadata": {},
   "outputs": [],
   "source": [
    "import numpy as np\n",
    "import pandas as pd\n",
    "from scipy import linalg\n",
    "from math import sqrt\n",
    "from tabulate import tabulate"
   ]
  },
  {
   "cell_type": "code",
   "execution_count": 2,
   "id": "86469270",
   "metadata": {},
   "outputs": [],
   "source": [
    "np.set_printoptions(formatter={'float_kind':\"{:.8f}\".format})\n",
    "pd.options.display.float_format = '{:.8f}'.format"
   ]
  },
  {
   "cell_type": "markdown",
   "id": "868c4eaf",
   "metadata": {},
   "source": [
    "# Data creation"
   ]
  },
  {
   "cell_type": "code",
   "execution_count": 3,
   "id": "13a62953",
   "metadata": {},
   "outputs": [],
   "source": [
    "def pretty_view(a):\n",
    "    pret=pd.DataFrame(data=a, index=list(range(1, a.shape[0]+1)), columns=list(range(1, a.shape[1]+1)))\n",
    "    display(pret)"
   ]
  },
  {
   "cell_type": "markdown",
   "id": "7643a27e",
   "metadata": {},
   "source": [
    "matrices by Pakulina A. N."
   ]
  },
  {
   "cell_type": "code",
   "execution_count": 4,
   "id": "b75497ca",
   "metadata": {},
   "outputs": [
    {
     "data": {
      "text/html": [
       "<div>\n",
       "<style scoped>\n",
       "    .dataframe tbody tr th:only-of-type {\n",
       "        vertical-align: middle;\n",
       "    }\n",
       "\n",
       "    .dataframe tbody tr th {\n",
       "        vertical-align: top;\n",
       "    }\n",
       "\n",
       "    .dataframe thead th {\n",
       "        text-align: right;\n",
       "    }\n",
       "</style>\n",
       "<table border=\"1\" class=\"dataframe\">\n",
       "  <thead>\n",
       "    <tr style=\"text-align: right;\">\n",
       "      <th></th>\n",
       "      <th>1</th>\n",
       "      <th>2</th>\n",
       "    </tr>\n",
       "  </thead>\n",
       "  <tbody>\n",
       "    <tr>\n",
       "      <th>1</th>\n",
       "      <td>-401.52000000</td>\n",
       "      <td>200.16000000</td>\n",
       "    </tr>\n",
       "    <tr>\n",
       "      <th>2</th>\n",
       "      <td>1200.96000000</td>\n",
       "      <td>-601.68000000</td>\n",
       "    </tr>\n",
       "  </tbody>\n",
       "</table>\n",
       "</div>"
      ],
      "text/plain": [
       "              1             2\n",
       "1 -401.52000000  200.16000000\n",
       "2 1200.96000000 -601.68000000"
      ]
     },
     "metadata": {},
     "output_type": "display_data"
    }
   ],
   "source": [
    "a1=np.matrix('-401.52 200.16; 1200.96 -601.68')\n",
    "a1=np.array(a1)\n",
    "pretty_view(a1)"
   ]
  },
  {
   "cell_type": "code",
   "execution_count": 5,
   "id": "11efb20b",
   "metadata": {},
   "outputs": [
    {
     "data": {
      "text/html": [
       "<div>\n",
       "<style scoped>\n",
       "    .dataframe tbody tr th:only-of-type {\n",
       "        vertical-align: middle;\n",
       "    }\n",
       "\n",
       "    .dataframe tbody tr th {\n",
       "        vertical-align: top;\n",
       "    }\n",
       "\n",
       "    .dataframe thead th {\n",
       "        text-align: right;\n",
       "    }\n",
       "</style>\n",
       "<table border=\"1\" class=\"dataframe\">\n",
       "  <thead>\n",
       "    <tr style=\"text-align: right;\">\n",
       "      <th></th>\n",
       "      <th>1</th>\n",
       "      <th>2</th>\n",
       "    </tr>\n",
       "  </thead>\n",
       "  <tbody>\n",
       "    <tr>\n",
       "      <th>1</th>\n",
       "      <td>-403.15000000</td>\n",
       "      <td>200.95000000</td>\n",
       "    </tr>\n",
       "    <tr>\n",
       "      <th>2</th>\n",
       "      <td>1205.70000000</td>\n",
       "      <td>-604.10000000</td>\n",
       "    </tr>\n",
       "  </tbody>\n",
       "</table>\n",
       "</div>"
      ],
      "text/plain": [
       "              1             2\n",
       "1 -403.15000000  200.95000000\n",
       "2 1205.70000000 -604.10000000"
      ]
     },
     "metadata": {},
     "output_type": "display_data"
    }
   ],
   "source": [
    "a2=np.matrix('-403.15 200.95; 1205.70 -604.10')\n",
    "a2=np.array(a2)\n",
    "pretty_view(a2)"
   ]
  },
  {
   "cell_type": "markdown",
   "id": "cd06b7ac",
   "metadata": {},
   "source": [
    "Hilbert matrices of order 2, 3"
   ]
  },
  {
   "cell_type": "code",
   "execution_count": 6,
   "id": "1786fcad",
   "metadata": {
    "scrolled": false
   },
   "outputs": [
    {
     "data": {
      "text/html": [
       "<div>\n",
       "<style scoped>\n",
       "    .dataframe tbody tr th:only-of-type {\n",
       "        vertical-align: middle;\n",
       "    }\n",
       "\n",
       "    .dataframe tbody tr th {\n",
       "        vertical-align: top;\n",
       "    }\n",
       "\n",
       "    .dataframe thead th {\n",
       "        text-align: right;\n",
       "    }\n",
       "</style>\n",
       "<table border=\"1\" class=\"dataframe\">\n",
       "  <thead>\n",
       "    <tr style=\"text-align: right;\">\n",
       "      <th></th>\n",
       "      <th>1</th>\n",
       "      <th>2</th>\n",
       "    </tr>\n",
       "  </thead>\n",
       "  <tbody>\n",
       "    <tr>\n",
       "      <th>1</th>\n",
       "      <td>1.00000000</td>\n",
       "      <td>0.50000000</td>\n",
       "    </tr>\n",
       "    <tr>\n",
       "      <th>2</th>\n",
       "      <td>0.50000000</td>\n",
       "      <td>0.33333333</td>\n",
       "    </tr>\n",
       "  </tbody>\n",
       "</table>\n",
       "</div>"
      ],
      "text/plain": [
       "           1          2\n",
       "1 1.00000000 0.50000000\n",
       "2 0.50000000 0.33333333"
      ]
     },
     "metadata": {},
     "output_type": "display_data"
    }
   ],
   "source": [
    "h2=linalg.hilbert(2)\n",
    "pretty_view(h2)"
   ]
  },
  {
   "cell_type": "code",
   "execution_count": 7,
   "id": "d594b031",
   "metadata": {
    "scrolled": false
   },
   "outputs": [
    {
     "data": {
      "text/html": [
       "<div>\n",
       "<style scoped>\n",
       "    .dataframe tbody tr th:only-of-type {\n",
       "        vertical-align: middle;\n",
       "    }\n",
       "\n",
       "    .dataframe tbody tr th {\n",
       "        vertical-align: top;\n",
       "    }\n",
       "\n",
       "    .dataframe thead th {\n",
       "        text-align: right;\n",
       "    }\n",
       "</style>\n",
       "<table border=\"1\" class=\"dataframe\">\n",
       "  <thead>\n",
       "    <tr style=\"text-align: right;\">\n",
       "      <th></th>\n",
       "      <th>1</th>\n",
       "      <th>2</th>\n",
       "      <th>3</th>\n",
       "    </tr>\n",
       "  </thead>\n",
       "  <tbody>\n",
       "    <tr>\n",
       "      <th>1</th>\n",
       "      <td>1.00000000</td>\n",
       "      <td>0.50000000</td>\n",
       "      <td>0.33333333</td>\n",
       "    </tr>\n",
       "    <tr>\n",
       "      <th>2</th>\n",
       "      <td>0.50000000</td>\n",
       "      <td>0.33333333</td>\n",
       "      <td>0.25000000</td>\n",
       "    </tr>\n",
       "    <tr>\n",
       "      <th>3</th>\n",
       "      <td>0.33333333</td>\n",
       "      <td>0.25000000</td>\n",
       "      <td>0.20000000</td>\n",
       "    </tr>\n",
       "  </tbody>\n",
       "</table>\n",
       "</div>"
      ],
      "text/plain": [
       "           1          2          3\n",
       "1 1.00000000 0.50000000 0.33333333\n",
       "2 0.50000000 0.33333333 0.25000000\n",
       "3 0.33333333 0.25000000 0.20000000"
      ]
     },
     "metadata": {},
     "output_type": "display_data"
    }
   ],
   "source": [
    "h3=linalg.hilbert(3)\n",
    "pretty_view(h3)"
   ]
  },
  {
   "cell_type": "markdown",
   "id": "2ad322bb",
   "metadata": {},
   "source": [
    "Diagonally dominant matrix"
   ]
  },
  {
   "cell_type": "code",
   "execution_count": 8,
   "id": "6964fb4b",
   "metadata": {},
   "outputs": [
    {
     "data": {
      "text/html": [
       "<div>\n",
       "<style scoped>\n",
       "    .dataframe tbody tr th:only-of-type {\n",
       "        vertical-align: middle;\n",
       "    }\n",
       "\n",
       "    .dataframe tbody tr th {\n",
       "        vertical-align: top;\n",
       "    }\n",
       "\n",
       "    .dataframe thead th {\n",
       "        text-align: right;\n",
       "    }\n",
       "</style>\n",
       "<table border=\"1\" class=\"dataframe\">\n",
       "  <thead>\n",
       "    <tr style=\"text-align: right;\">\n",
       "      <th></th>\n",
       "      <th>1</th>\n",
       "      <th>2</th>\n",
       "      <th>3</th>\n",
       "      <th>4</th>\n",
       "      <th>5</th>\n",
       "    </tr>\n",
       "  </thead>\n",
       "  <tbody>\n",
       "    <tr>\n",
       "      <th>1</th>\n",
       "      <td>6</td>\n",
       "      <td>-1</td>\n",
       "      <td>0</td>\n",
       "      <td>0</td>\n",
       "      <td>0</td>\n",
       "    </tr>\n",
       "    <tr>\n",
       "      <th>2</th>\n",
       "      <td>-1</td>\n",
       "      <td>6</td>\n",
       "      <td>-1</td>\n",
       "      <td>0</td>\n",
       "      <td>0</td>\n",
       "    </tr>\n",
       "    <tr>\n",
       "      <th>3</th>\n",
       "      <td>0</td>\n",
       "      <td>-1</td>\n",
       "      <td>6</td>\n",
       "      <td>-1</td>\n",
       "      <td>0</td>\n",
       "    </tr>\n",
       "    <tr>\n",
       "      <th>4</th>\n",
       "      <td>0</td>\n",
       "      <td>0</td>\n",
       "      <td>-1</td>\n",
       "      <td>6</td>\n",
       "      <td>-1</td>\n",
       "    </tr>\n",
       "    <tr>\n",
       "      <th>5</th>\n",
       "      <td>0</td>\n",
       "      <td>0</td>\n",
       "      <td>0</td>\n",
       "      <td>-1</td>\n",
       "      <td>6</td>\n",
       "    </tr>\n",
       "  </tbody>\n",
       "</table>\n",
       "</div>"
      ],
      "text/plain": [
       "   1  2  3  4  5\n",
       "1  6 -1  0  0  0\n",
       "2 -1  6 -1  0  0\n",
       "3  0 -1  6 -1  0\n",
       "4  0  0 -1  6 -1\n",
       "5  0  0  0 -1  6"
      ]
     },
     "metadata": {},
     "output_type": "display_data"
    }
   ],
   "source": [
    "diag_m=np.matrix('''6 -1 0 0 0;\n",
    "                    -1 6 -1 0 0;\n",
    "                    0 -1 6 -1 0;\n",
    "                    0 0 -1 6 -1;\n",
    "                    0 0 0 -1 6''')\n",
    "diag_m=np.array(diag_m)\n",
    "pretty_view(diag_m)"
   ]
  },
  {
   "cell_type": "markdown",
   "id": "55a85524",
   "metadata": {},
   "source": [
    "# Counting coefs and methods realisation"
   ]
  },
  {
   "cell_type": "code",
   "execution_count": 9,
   "id": "8c85338c",
   "metadata": {},
   "outputs": [],
   "source": [
    "def count_b(A, x):  # считаем b для последующих вычислений\n",
    "    b = np.dot(A, x)\n",
    "    return b"
   ]
  },
  {
   "cell_type": "code",
   "execution_count": 10,
   "id": "ce2ed3b1",
   "metadata": {},
   "outputs": [],
   "source": [
    "def count_coefs(A, b):  # считаем alpha и beta\n",
    "    alpha = np.array(np.zeros((A.shape[0], A.shape[0])))\n",
    "    beta = np.array(np.zeros(b.shape[0]))\n",
    "    for i in range(A.shape[0]):\n",
    "        for j in range(A.shape[0]):\n",
    "            if i != j:\n",
    "                alpha[i][j] = - A[i][j] / A[i][i]\n",
    "                beta[i] = b[i] / A[i][i]\n",
    "            else:\n",
    "                alpha[i][i] = 0\n",
    "    return alpha, beta"
   ]
  },
  {
   "cell_type": "code",
   "execution_count": 11,
   "id": "8dac9614",
   "metadata": {},
   "outputs": [],
   "source": [
    "def simple_iteration_method(alpha, beta, x, eps):  # метод простой итерации\n",
    "    n_iter=1\n",
    "    err = eps + 1\n",
    "    while err > eps:\n",
    "        err = np.linalg.norm(np.dot(alpha, x) + beta - x)\n",
    "        x = np.dot(alpha, x) + beta\n",
    "        n_iter += 1\n",
    "    x = np.dot(alpha, x) + beta\n",
    "    return x, n_iter"
   ]
  },
  {
   "cell_type": "code",
   "execution_count": 12,
   "id": "9ec44137",
   "metadata": {},
   "outputs": [],
   "source": [
    "def seidel_method(A, b, eps): # функция возвращает x  и кол-во итераций для сравнения\n",
    "    n_iter = 0\n",
    "    x = np.array(np.zeros((b.shape[0])))\n",
    "    err = eps + 1\n",
    "    while err > eps:\n",
    "        x_n = x.copy()\n",
    "        for i in range(A.shape[0]):\n",
    "            x1 = sum(A[i][j] * x_n[j] for j in range(i))\n",
    "            x2 = sum(A[i][j] * x[j] for j in range(i + 1, A.shape[0]))\n",
    "            x_n[i] = (b[i] - x1 - x2)/A[i][i]\n",
    "        err = np.linalg.norm(x_n - x)\n",
    "        n_iter += 1\n",
    "        x = x_n\n",
    "    return x, n_iter"
   ]
  },
  {
   "cell_type": "markdown",
   "id": "a2f5add6",
   "metadata": {},
   "source": [
    "# Print results"
   ]
  },
  {
   "cell_type": "code",
   "execution_count": 13,
   "id": "0e56185a",
   "metadata": {},
   "outputs": [],
   "source": [
    "def print_result(A):\n",
    "    pretty_view(A)\n",
    "    x_w = np.random.uniform(0, 100, size=A.shape[0])\n",
    "    b = count_b(A, x_w)\n",
    "    alpha, beta = count_coefs(A, b)\n",
    "    table=[['Приближение', \"n_iter м. простых итераций\",\"n_iter м. Зейделя\", \n",
    "                'x - x_sim', 'x - x_seid']]\n",
    "    for eps in (1e-4, 1e-7, 1e-10, 1e-13):\n",
    "        row=[]\n",
    "        row.append(eps)\n",
    "        x_sim, n_iter_1 = simple_iteration_method(alpha, beta, beta, eps)\n",
    "        x_seid, n_iter_2 = seidel_method(A, b, eps)\n",
    "        row.append(n_iter_1)\n",
    "        row.append(n_iter_2)\n",
    "        row.append(np.linalg.norm(x_w - x_sim))\n",
    "        row.append(np.linalg.norm(x_w- x_seid))\n",
    "        table.append(row)\n",
    "    return print(tabulate(table, tablefmt='fancy_grid', numalign=\"right\"))"
   ]
  },
  {
   "cell_type": "code",
   "execution_count": 14,
   "id": "2475dff1",
   "metadata": {},
   "outputs": [],
   "source": [
    "list_of_matrixes=[a1, a2, h2, diag_m]"
   ]
  },
  {
   "cell_type": "code",
   "execution_count": 15,
   "id": "a5998e02",
   "metadata": {},
   "outputs": [
    {
     "data": {
      "text/html": [
       "<div>\n",
       "<style scoped>\n",
       "    .dataframe tbody tr th:only-of-type {\n",
       "        vertical-align: middle;\n",
       "    }\n",
       "\n",
       "    .dataframe tbody tr th {\n",
       "        vertical-align: top;\n",
       "    }\n",
       "\n",
       "    .dataframe thead th {\n",
       "        text-align: right;\n",
       "    }\n",
       "</style>\n",
       "<table border=\"1\" class=\"dataframe\">\n",
       "  <thead>\n",
       "    <tr style=\"text-align: right;\">\n",
       "      <th></th>\n",
       "      <th>1</th>\n",
       "      <th>2</th>\n",
       "    </tr>\n",
       "  </thead>\n",
       "  <tbody>\n",
       "    <tr>\n",
       "      <th>1</th>\n",
       "      <td>-401.52000000</td>\n",
       "      <td>200.16000000</td>\n",
       "    </tr>\n",
       "    <tr>\n",
       "      <th>2</th>\n",
       "      <td>1200.96000000</td>\n",
       "      <td>-601.68000000</td>\n",
       "    </tr>\n",
       "  </tbody>\n",
       "</table>\n",
       "</div>"
      ],
      "text/plain": [
       "              1             2\n",
       "1 -401.52000000  200.16000000\n",
       "2 1200.96000000 -601.68000000"
      ]
     },
     "metadata": {},
     "output_type": "display_data"
    },
    {
     "name": "stdout",
     "output_type": "stream",
     "text": [
      "╒═════════════╤════════════════════════════╤═══════════════════╤════════════════════════╤════════════════════════╕\n",
      "│ Приближение │ n_iter м. простых итераций │ n_iter м. Зейделя │ x - x_sim              │ x - x_seid             │\n",
      "├─────────────┼────────────────────────────┼───────────────────┼────────────────────────┼────────────────────────┤\n",
      "│ 0.0001      │ 5535                       │ 1248              │ 4.981478275381603e-05  │ 0.019898397647805766   │\n",
      "├─────────────┼────────────────────────────┼───────────────────┼────────────────────────┼────────────────────────┤\n",
      "│ 1e-07       │ 8303                       │ 2632              │ 4.992426167448611e-08  │ 1.994326529456602e-05  │\n",
      "├─────────────┼────────────────────────────┼───────────────────┼────────────────────────┼────────────────────────┤\n",
      "│ 1e-10       │ 11073                      │ 4016              │ 4.7127963935531873e-11 │ 1.9986171495829062e-08 │\n",
      "├─────────────┼────────────────────────────┼───────────────────┼────────────────────────┼────────────────────────┤\n",
      "│ 1e-13       │ 12743                      │ 5382              │ 2.936297974879625e-12  │ 1.9707750426465472e-11 │\n",
      "╘═════════════╧════════════════════════════╧═══════════════════╧════════════════════════╧════════════════════════╛\n"
     ]
    },
    {
     "data": {
      "text/html": [
       "<div>\n",
       "<style scoped>\n",
       "    .dataframe tbody tr th:only-of-type {\n",
       "        vertical-align: middle;\n",
       "    }\n",
       "\n",
       "    .dataframe tbody tr th {\n",
       "        vertical-align: top;\n",
       "    }\n",
       "\n",
       "    .dataframe thead th {\n",
       "        text-align: right;\n",
       "    }\n",
       "</style>\n",
       "<table border=\"1\" class=\"dataframe\">\n",
       "  <thead>\n",
       "    <tr style=\"text-align: right;\">\n",
       "      <th></th>\n",
       "      <th>1</th>\n",
       "      <th>2</th>\n",
       "    </tr>\n",
       "  </thead>\n",
       "  <tbody>\n",
       "    <tr>\n",
       "      <th>1</th>\n",
       "      <td>-403.15000000</td>\n",
       "      <td>200.95000000</td>\n",
       "    </tr>\n",
       "    <tr>\n",
       "      <th>2</th>\n",
       "      <td>1205.70000000</td>\n",
       "      <td>-604.10000000</td>\n",
       "    </tr>\n",
       "  </tbody>\n",
       "</table>\n",
       "</div>"
      ],
      "text/plain": [
       "              1             2\n",
       "1 -403.15000000  200.95000000\n",
       "2 1205.70000000 -604.10000000"
      ]
     },
     "metadata": {},
     "output_type": "display_data"
    },
    {
     "name": "stdout",
     "output_type": "stream",
     "text": [
      "╒═════════════╤════════════════════════════╤═══════════════════╤════════════════════════╤════════════════════════╕\n",
      "│ Приближение │ n_iter м. простых итераций │ n_iter м. Зейделя │ x - x_sim              │ x - x_seid             │\n",
      "├─────────────┼────────────────────────────┼───────────────────┼────────────────────────┼────────────────────────┤\n",
      "│ 0.0001      │ 4685                       │ 1285              │ 0.00010764782986164293 │ 0.019171438850541504   │\n",
      "├─────────────┼────────────────────────────┼───────────────────┼────────────────────────┼────────────────────────┤\n",
      "│ 1e-07       │ 7353                       │ 2619              │ 1.0786178257484547e-07 │ 1.920958462860987e-05  │\n",
      "├─────────────┼────────────────────────────┼───────────────────┼────────────────────────┼────────────────────────┤\n",
      "│ 1e-10       │ 10023                      │ 3953              │ 1.0725390461281745e-10 │ 1.924716222437619e-08  │\n",
      "├─────────────┼────────────────────────────┼───────────────────┼────────────────────────┼────────────────────────┤\n",
      "│ 1e-13       │ 12126                      │ 5290              │ 4.242035346526187e-13  │ 1.8368375702745535e-11 │\n",
      "╘═════════════╧════════════════════════════╧═══════════════════╧════════════════════════╧════════════════════════╛\n"
     ]
    },
    {
     "data": {
      "text/html": [
       "<div>\n",
       "<style scoped>\n",
       "    .dataframe tbody tr th:only-of-type {\n",
       "        vertical-align: middle;\n",
       "    }\n",
       "\n",
       "    .dataframe tbody tr th {\n",
       "        vertical-align: top;\n",
       "    }\n",
       "\n",
       "    .dataframe thead th {\n",
       "        text-align: right;\n",
       "    }\n",
       "</style>\n",
       "<table border=\"1\" class=\"dataframe\">\n",
       "  <thead>\n",
       "    <tr style=\"text-align: right;\">\n",
       "      <th></th>\n",
       "      <th>1</th>\n",
       "      <th>2</th>\n",
       "    </tr>\n",
       "  </thead>\n",
       "  <tbody>\n",
       "    <tr>\n",
       "      <th>1</th>\n",
       "      <td>1.00000000</td>\n",
       "      <td>0.50000000</td>\n",
       "    </tr>\n",
       "    <tr>\n",
       "      <th>2</th>\n",
       "      <td>0.50000000</td>\n",
       "      <td>0.33333333</td>\n",
       "    </tr>\n",
       "  </tbody>\n",
       "</table>\n",
       "</div>"
      ],
      "text/plain": [
       "           1          2\n",
       "1 1.00000000 0.50000000\n",
       "2 0.50000000 0.33333333"
      ]
     },
     "metadata": {},
     "output_type": "display_data"
    },
    {
     "name": "stdout",
     "output_type": "stream",
     "text": [
      "╒═════════════╤════════════════════════════╤═══════════════════╤════════════════════════╤════════════════════════╕\n",
      "│ Приближение │ n_iter м. простых итераций │ n_iter м. Зейделя │ x - x_sim              │ x - x_seid             │\n",
      "├─────────────┼────────────────────────────┼───────────────────┼────────────────────────┼────────────────────────┤\n",
      "│ 0.0001      │ 103                        │ 40                │ 3.2433241997382446e-05 │ 0.00026994082117933783 │\n",
      "├─────────────┼────────────────────────────┼───────────────────┼────────────────────────┼────────────────────────┤\n",
      "│ 1e-07       │ 151                        │ 64                │ 3.254323834509274e-08  │ 2.7085628735113524e-07 │\n",
      "├─────────────┼────────────────────────────┼───────────────────┼────────────────────────┼────────────────────────┤\n",
      "│ 1e-10       │ 199                        │ 88                │ 3.267049556694503e-11  │ 2.717691242272817e-10  │\n",
      "├─────────────┼────────────────────────────┼───────────────────┼────────────────────────┼────────────────────────┤\n",
      "│ 1e-13       │ 248                        │ 112               │ 5.3290705182007514e-14 │ 2.847716647714797e-13  │\n",
      "╘═════════════╧════════════════════════════╧═══════════════════╧════════════════════════╧════════════════════════╛\n"
     ]
    },
    {
     "data": {
      "text/html": [
       "<div>\n",
       "<style scoped>\n",
       "    .dataframe tbody tr th:only-of-type {\n",
       "        vertical-align: middle;\n",
       "    }\n",
       "\n",
       "    .dataframe tbody tr th {\n",
       "        vertical-align: top;\n",
       "    }\n",
       "\n",
       "    .dataframe thead th {\n",
       "        text-align: right;\n",
       "    }\n",
       "</style>\n",
       "<table border=\"1\" class=\"dataframe\">\n",
       "  <thead>\n",
       "    <tr style=\"text-align: right;\">\n",
       "      <th></th>\n",
       "      <th>1</th>\n",
       "      <th>2</th>\n",
       "      <th>3</th>\n",
       "      <th>4</th>\n",
       "      <th>5</th>\n",
       "    </tr>\n",
       "  </thead>\n",
       "  <tbody>\n",
       "    <tr>\n",
       "      <th>1</th>\n",
       "      <td>6</td>\n",
       "      <td>-1</td>\n",
       "      <td>0</td>\n",
       "      <td>0</td>\n",
       "      <td>0</td>\n",
       "    </tr>\n",
       "    <tr>\n",
       "      <th>2</th>\n",
       "      <td>-1</td>\n",
       "      <td>6</td>\n",
       "      <td>-1</td>\n",
       "      <td>0</td>\n",
       "      <td>0</td>\n",
       "    </tr>\n",
       "    <tr>\n",
       "      <th>3</th>\n",
       "      <td>0</td>\n",
       "      <td>-1</td>\n",
       "      <td>6</td>\n",
       "      <td>-1</td>\n",
       "      <td>0</td>\n",
       "    </tr>\n",
       "    <tr>\n",
       "      <th>4</th>\n",
       "      <td>0</td>\n",
       "      <td>0</td>\n",
       "      <td>-1</td>\n",
       "      <td>6</td>\n",
       "      <td>-1</td>\n",
       "    </tr>\n",
       "    <tr>\n",
       "      <th>5</th>\n",
       "      <td>0</td>\n",
       "      <td>0</td>\n",
       "      <td>0</td>\n",
       "      <td>-1</td>\n",
       "      <td>6</td>\n",
       "    </tr>\n",
       "  </tbody>\n",
       "</table>\n",
       "</div>"
      ],
      "text/plain": [
       "   1  2  3  4  5\n",
       "1  6 -1  0  0  0\n",
       "2 -1  6 -1  0  0\n",
       "3  0 -1  6 -1  0\n",
       "4  0  0 -1  6 -1\n",
       "5  0  0  0 -1  6"
      ]
     },
     "metadata": {},
     "output_type": "display_data"
    },
    {
     "name": "stdout",
     "output_type": "stream",
     "text": [
      "╒═════════════╤════════════════════════════╤═══════════════════╤════════════════════════╤════════════════════════╕\n",
      "│ Приближение │ n_iter м. простых итераций │ n_iter м. Зейделя │ x - x_sim              │ x - x_seid             │\n",
      "├─────────────┼────────────────────────────┼───────────────────┼────────────────────────┼────────────────────────┤\n",
      "│ 0.0001      │ 13                         │ 8                 │ 3.6202095750484374e-06 │ 7.110253728164899e-06  │\n",
      "├─────────────┼────────────────────────────┼───────────────────┼────────────────────────┼────────────────────────┤\n",
      "│ 1e-07       │ 18                         │ 11                │ 7.257390867881125e-09  │ 4.12619155543137e-09   │\n",
      "├─────────────┼────────────────────────────┼───────────────────┼────────────────────────┼────────────────────────┤\n",
      "│ 1e-10       │ 24                         │ 14                │ 4.200227205702084e-12  │ 2.392039771862171e-12  │\n",
      "├─────────────┼────────────────────────────┼───────────────────┼────────────────────────┼────────────────────────┤\n",
      "│ 1e-13       │ 29                         │ 17                │ 2.5618982671915014e-14 │ 2.6586074758753436e-14 │\n",
      "╘═════════════╧════════════════════════════╧═══════════════════╧════════════════════════╧════════════════════════╛\n"
     ]
    }
   ],
   "source": [
    "for matrix in list_of_matrixes:\n",
    "    print_result(matrix)"
   ]
  },
  {
   "cell_type": "markdown",
   "id": "1456736c",
   "metadata": {},
   "source": [
    "# Метод релаксации"
   ]
  },
  {
   "cell_type": "code",
   "execution_count": 16,
   "id": "b29bf80e",
   "metadata": {},
   "outputs": [],
   "source": [
    "# import warnings\n",
    "# warnings.filterwarnings(\"ignore\")"
   ]
  },
  {
   "cell_type": "code",
   "execution_count": 17,
   "id": "5691c1bd",
   "metadata": {},
   "outputs": [],
   "source": [
    "def relax_method(A, b, x):\n",
    "    n = A.shape[0]\n",
    "    x = x.copy()\n",
    "    mask = np.full(n, True)\n",
    "    for j in range(n):\n",
    "        deltas = A @ x - b\n",
    "        k = np.nanargmax(np.abs(np.where(mask, deltas, np.nan)))\n",
    "        if A[k, j] != 0:\n",
    "            x[j] = (b[k] - A[k] @ x + A[k, j]*x[j]) / A[k, j] \n",
    "        mask[k] = False\n",
    "    return x"
   ]
  },
  {
   "cell_type": "code",
   "execution_count": 18,
   "id": "dc080a62",
   "metadata": {},
   "outputs": [],
   "source": [
    "def relax_solve(A, b, x, eps):\n",
    "    n_iter = 1\n",
    "    err = eps + 1\n",
    "    while err > eps:\n",
    "        x_new = relax_method(A, b, x)\n",
    "        err = np.linalg.norm(x - x_new)\n",
    "        n_iter += 1\n",
    "        x = x_new\n",
    "    return x, n_iter"
   ]
  },
  {
   "cell_type": "code",
   "execution_count": 19,
   "id": "b691e547",
   "metadata": {},
   "outputs": [],
   "source": [
    "def test_data():\n",
    "    n = 201\n",
    "    A = np.random.rand(n, n)\n",
    "    for i in range(n):\n",
    "        A[i, i] = sum([abs(A[i, j]) for j in range(n)])\n",
    "    return A"
   ]
  },
  {
   "cell_type": "code",
   "execution_count": 20,
   "id": "23d94525",
   "metadata": {},
   "outputs": [],
   "source": [
    "def var(value, eps):\n",
    "    return np.random.choice([-eps, eps], size=value.shape) + value"
   ]
  },
  {
   "cell_type": "code",
   "execution_count": 21,
   "id": "900112b1",
   "metadata": {},
   "outputs": [],
   "source": [
    "def var_():\n",
    "    return np.random.uniform(0, 201, size=A.shape[0])"
   ]
  },
  {
   "cell_type": "code",
   "execution_count": 18,
   "id": "71970855",
   "metadata": {},
   "outputs": [
    {
     "name": "stderr",
     "output_type": "stream",
     "text": [
      "<ipython-input-8-ebb96acb7a02>:9: RuntimeWarning: overflow encountered in matmul\n",
      "  x[j] = (b[k] - A[k] @ x + A[k, j]*x[j]) / A[k, j]\n",
      "<ipython-input-8-ebb96acb7a02>:6: RuntimeWarning: invalid value encountered in matmul\n",
      "  deltas = A @ x - b\n",
      "<ipython-input-8-ebb96acb7a02>:9: RuntimeWarning: overflow encountered in double_scalars\n",
      "  x[j] = (b[k] - A[k] @ x + A[k, j]*x[j]) / A[k, j]\n"
     ]
    },
    {
     "name": "stdout",
     "output_type": "stream",
     "text": [
      "Решение найдено!\n",
      "Норма разности 7.53982713e-07\n"
     ]
    }
   ],
   "source": [
    "A = test_data()\n",
    "x = np.random.uniform(0, 201, size=A.shape[0])\n",
    "b = count_b(A, x)\n",
    "for i in range(50):\n",
    "    A_2 = var(A, 1e-3)\n",
    "    for j in range(50):\n",
    "        try:\n",
    "            start_x = var_()\n",
    "            x_2 = relax_solve(A_2, b, start_x, 1)\n",
    "            print('Решение найдено!')\n",
    "            print('Норма разности', np.linalg.norm(x_2 - x))\n",
    "            break\n",
    "        except KeyboardInterrupt:\n",
    "            raise KeyboardInterrupt()\n",
    "        except:\n",
    "            pass"
   ]
  }
 ],
 "metadata": {
  "kernelspec": {
   "display_name": "Python 3 (ipykernel)",
   "language": "python",
   "name": "python3"
  },
  "language_info": {
   "codemirror_mode": {
    "name": "ipython",
    "version": 3
   },
   "file_extension": ".py",
   "mimetype": "text/x-python",
   "name": "python",
   "nbconvert_exporter": "python",
   "pygments_lexer": "ipython3",
   "version": "3.8.10"
  },
  "toc": {
   "base_numbering": 1,
   "nav_menu": {},
   "number_sections": false,
   "sideBar": true,
   "skip_h1_title": false,
   "title_cell": "Table of Contents",
   "title_sidebar": "Contents",
   "toc_cell": false,
   "toc_position": {},
   "toc_section_display": true,
   "toc_window_display": false
  }
 },
 "nbformat": 4,
 "nbformat_minor": 5
}
