{
 "cells": [
  {
   "cell_type": "code",
   "execution_count": 1,
   "id": "49da5528",
   "metadata": {},
   "outputs": [],
   "source": [
    "import numpy as np\n",
    "import pandas as pd\n",
    "from scipy import linalg\n",
    "from math import sqrt\n",
    "from tabulate import tabulate"
   ]
  },
  {
   "cell_type": "code",
   "execution_count": 2,
   "id": "86469270",
   "metadata": {},
   "outputs": [],
   "source": [
    "np.set_printoptions(formatter={'float_kind':\"{:.8f}\".format})\n",
    "pd.options.display.float_format = '{:.8f}'.format"
   ]
  },
  {
   "cell_type": "markdown",
   "id": "868c4eaf",
   "metadata": {},
   "source": [
    "# Data creation"
   ]
  },
  {
   "cell_type": "code",
   "execution_count": 3,
   "id": "13a62953",
   "metadata": {},
   "outputs": [],
   "source": [
    "def pretty_view(a):\n",
    "    pret=pd.DataFrame(data=a, index=list(range(1, a.shape[0]+1)), columns=list(range(1, a.shape[1]+1)))\n",
    "    display(pret)"
   ]
  },
  {
   "cell_type": "markdown",
   "id": "7643a27e",
   "metadata": {},
   "source": [
    "matrices by Pakulina A. N."
   ]
  },
  {
   "cell_type": "code",
   "execution_count": 4,
   "id": "b75497ca",
   "metadata": {},
   "outputs": [
    {
     "data": {
      "text/html": [
       "<div>\n",
       "<style scoped>\n",
       "    .dataframe tbody tr th:only-of-type {\n",
       "        vertical-align: middle;\n",
       "    }\n",
       "\n",
       "    .dataframe tbody tr th {\n",
       "        vertical-align: top;\n",
       "    }\n",
       "\n",
       "    .dataframe thead th {\n",
       "        text-align: right;\n",
       "    }\n",
       "</style>\n",
       "<table border=\"1\" class=\"dataframe\">\n",
       "  <thead>\n",
       "    <tr style=\"text-align: right;\">\n",
       "      <th></th>\n",
       "      <th>1</th>\n",
       "      <th>2</th>\n",
       "    </tr>\n",
       "  </thead>\n",
       "  <tbody>\n",
       "    <tr>\n",
       "      <th>1</th>\n",
       "      <td>-401.52000000</td>\n",
       "      <td>200.16000000</td>\n",
       "    </tr>\n",
       "    <tr>\n",
       "      <th>2</th>\n",
       "      <td>1200.96000000</td>\n",
       "      <td>-601.68000000</td>\n",
       "    </tr>\n",
       "  </tbody>\n",
       "</table>\n",
       "</div>"
      ],
      "text/plain": [
       "              1             2\n",
       "1 -401.52000000  200.16000000\n",
       "2 1200.96000000 -601.68000000"
      ]
     },
     "metadata": {},
     "output_type": "display_data"
    }
   ],
   "source": [
    "a1=np.matrix('-401.52 200.16; 1200.96 -601.68')\n",
    "a1=np.array(a1)\n",
    "pretty_view(a1)"
   ]
  },
  {
   "cell_type": "code",
   "execution_count": 5,
   "id": "11efb20b",
   "metadata": {},
   "outputs": [
    {
     "data": {
      "text/html": [
       "<div>\n",
       "<style scoped>\n",
       "    .dataframe tbody tr th:only-of-type {\n",
       "        vertical-align: middle;\n",
       "    }\n",
       "\n",
       "    .dataframe tbody tr th {\n",
       "        vertical-align: top;\n",
       "    }\n",
       "\n",
       "    .dataframe thead th {\n",
       "        text-align: right;\n",
       "    }\n",
       "</style>\n",
       "<table border=\"1\" class=\"dataframe\">\n",
       "  <thead>\n",
       "    <tr style=\"text-align: right;\">\n",
       "      <th></th>\n",
       "      <th>1</th>\n",
       "      <th>2</th>\n",
       "    </tr>\n",
       "  </thead>\n",
       "  <tbody>\n",
       "    <tr>\n",
       "      <th>1</th>\n",
       "      <td>-403.15000000</td>\n",
       "      <td>200.95000000</td>\n",
       "    </tr>\n",
       "    <tr>\n",
       "      <th>2</th>\n",
       "      <td>1205.70000000</td>\n",
       "      <td>-604.10000000</td>\n",
       "    </tr>\n",
       "  </tbody>\n",
       "</table>\n",
       "</div>"
      ],
      "text/plain": [
       "              1             2\n",
       "1 -403.15000000  200.95000000\n",
       "2 1205.70000000 -604.10000000"
      ]
     },
     "metadata": {},
     "output_type": "display_data"
    }
   ],
   "source": [
    "a2=np.matrix('-403.15 200.95; 1205.70 -604.10')\n",
    "a2=np.array(a2)\n",
    "pretty_view(a2)"
   ]
  },
  {
   "cell_type": "markdown",
   "id": "cd06b7ac",
   "metadata": {},
   "source": [
    "Hilbert matrices of order 2, 3"
   ]
  },
  {
   "cell_type": "code",
   "execution_count": 6,
   "id": "1786fcad",
   "metadata": {
    "scrolled": false
   },
   "outputs": [
    {
     "data": {
      "text/html": [
       "<div>\n",
       "<style scoped>\n",
       "    .dataframe tbody tr th:only-of-type {\n",
       "        vertical-align: middle;\n",
       "    }\n",
       "\n",
       "    .dataframe tbody tr th {\n",
       "        vertical-align: top;\n",
       "    }\n",
       "\n",
       "    .dataframe thead th {\n",
       "        text-align: right;\n",
       "    }\n",
       "</style>\n",
       "<table border=\"1\" class=\"dataframe\">\n",
       "  <thead>\n",
       "    <tr style=\"text-align: right;\">\n",
       "      <th></th>\n",
       "      <th>1</th>\n",
       "      <th>2</th>\n",
       "    </tr>\n",
       "  </thead>\n",
       "  <tbody>\n",
       "    <tr>\n",
       "      <th>1</th>\n",
       "      <td>1.00000000</td>\n",
       "      <td>0.50000000</td>\n",
       "    </tr>\n",
       "    <tr>\n",
       "      <th>2</th>\n",
       "      <td>0.50000000</td>\n",
       "      <td>0.33333333</td>\n",
       "    </tr>\n",
       "  </tbody>\n",
       "</table>\n",
       "</div>"
      ],
      "text/plain": [
       "           1          2\n",
       "1 1.00000000 0.50000000\n",
       "2 0.50000000 0.33333333"
      ]
     },
     "metadata": {},
     "output_type": "display_data"
    }
   ],
   "source": [
    "h2=linalg.hilbert(2)\n",
    "pretty_view(h2)"
   ]
  },
  {
   "cell_type": "code",
   "execution_count": 7,
   "id": "d594b031",
   "metadata": {
    "scrolled": false
   },
   "outputs": [
    {
     "data": {
      "text/html": [
       "<div>\n",
       "<style scoped>\n",
       "    .dataframe tbody tr th:only-of-type {\n",
       "        vertical-align: middle;\n",
       "    }\n",
       "\n",
       "    .dataframe tbody tr th {\n",
       "        vertical-align: top;\n",
       "    }\n",
       "\n",
       "    .dataframe thead th {\n",
       "        text-align: right;\n",
       "    }\n",
       "</style>\n",
       "<table border=\"1\" class=\"dataframe\">\n",
       "  <thead>\n",
       "    <tr style=\"text-align: right;\">\n",
       "      <th></th>\n",
       "      <th>1</th>\n",
       "      <th>2</th>\n",
       "      <th>3</th>\n",
       "    </tr>\n",
       "  </thead>\n",
       "  <tbody>\n",
       "    <tr>\n",
       "      <th>1</th>\n",
       "      <td>1.00000000</td>\n",
       "      <td>0.50000000</td>\n",
       "      <td>0.33333333</td>\n",
       "    </tr>\n",
       "    <tr>\n",
       "      <th>2</th>\n",
       "      <td>0.50000000</td>\n",
       "      <td>0.33333333</td>\n",
       "      <td>0.25000000</td>\n",
       "    </tr>\n",
       "    <tr>\n",
       "      <th>3</th>\n",
       "      <td>0.33333333</td>\n",
       "      <td>0.25000000</td>\n",
       "      <td>0.20000000</td>\n",
       "    </tr>\n",
       "  </tbody>\n",
       "</table>\n",
       "</div>"
      ],
      "text/plain": [
       "           1          2          3\n",
       "1 1.00000000 0.50000000 0.33333333\n",
       "2 0.50000000 0.33333333 0.25000000\n",
       "3 0.33333333 0.25000000 0.20000000"
      ]
     },
     "metadata": {},
     "output_type": "display_data"
    }
   ],
   "source": [
    "h3=linalg.hilbert(3)\n",
    "pretty_view(h3)"
   ]
  },
  {
   "cell_type": "markdown",
   "id": "2ad322bb",
   "metadata": {},
   "source": [
    "Diagonally dominant matrix"
   ]
  },
  {
   "cell_type": "code",
   "execution_count": 8,
   "id": "6964fb4b",
   "metadata": {},
   "outputs": [
    {
     "data": {
      "text/html": [
       "<div>\n",
       "<style scoped>\n",
       "    .dataframe tbody tr th:only-of-type {\n",
       "        vertical-align: middle;\n",
       "    }\n",
       "\n",
       "    .dataframe tbody tr th {\n",
       "        vertical-align: top;\n",
       "    }\n",
       "\n",
       "    .dataframe thead th {\n",
       "        text-align: right;\n",
       "    }\n",
       "</style>\n",
       "<table border=\"1\" class=\"dataframe\">\n",
       "  <thead>\n",
       "    <tr style=\"text-align: right;\">\n",
       "      <th></th>\n",
       "      <th>1</th>\n",
       "      <th>2</th>\n",
       "      <th>3</th>\n",
       "      <th>4</th>\n",
       "      <th>5</th>\n",
       "    </tr>\n",
       "  </thead>\n",
       "  <tbody>\n",
       "    <tr>\n",
       "      <th>1</th>\n",
       "      <td>6</td>\n",
       "      <td>-1</td>\n",
       "      <td>0</td>\n",
       "      <td>0</td>\n",
       "      <td>0</td>\n",
       "    </tr>\n",
       "    <tr>\n",
       "      <th>2</th>\n",
       "      <td>-1</td>\n",
       "      <td>6</td>\n",
       "      <td>-1</td>\n",
       "      <td>0</td>\n",
       "      <td>0</td>\n",
       "    </tr>\n",
       "    <tr>\n",
       "      <th>3</th>\n",
       "      <td>0</td>\n",
       "      <td>-1</td>\n",
       "      <td>6</td>\n",
       "      <td>-1</td>\n",
       "      <td>0</td>\n",
       "    </tr>\n",
       "    <tr>\n",
       "      <th>4</th>\n",
       "      <td>0</td>\n",
       "      <td>0</td>\n",
       "      <td>-1</td>\n",
       "      <td>6</td>\n",
       "      <td>-1</td>\n",
       "    </tr>\n",
       "    <tr>\n",
       "      <th>5</th>\n",
       "      <td>0</td>\n",
       "      <td>0</td>\n",
       "      <td>0</td>\n",
       "      <td>-1</td>\n",
       "      <td>6</td>\n",
       "    </tr>\n",
       "  </tbody>\n",
       "</table>\n",
       "</div>"
      ],
      "text/plain": [
       "   1  2  3  4  5\n",
       "1  6 -1  0  0  0\n",
       "2 -1  6 -1  0  0\n",
       "3  0 -1  6 -1  0\n",
       "4  0  0 -1  6 -1\n",
       "5  0  0  0 -1  6"
      ]
     },
     "metadata": {},
     "output_type": "display_data"
    }
   ],
   "source": [
    "diag_m=np.matrix('''6 -1 0 0 0;\n",
    "                    -1 6 -1 0 0;\n",
    "                    0 -1 6 -1 0;\n",
    "                    0 0 -1 6 -1;\n",
    "                    0 0 0 -1 6''')\n",
    "diag_m=np.array(diag_m)\n",
    "pretty_view(diag_m)"
   ]
  },
  {
   "cell_type": "markdown",
   "id": "55a85524",
   "metadata": {},
   "source": [
    "# Counting coefs and methods realisation"
   ]
  },
  {
   "cell_type": "code",
   "execution_count": 9,
   "id": "8c85338c",
   "metadata": {},
   "outputs": [],
   "source": [
    "def count_b(A, x):  # считаем b для последующих вычислений\n",
    "    b = np.dot(A, x)\n",
    "    return b"
   ]
  },
  {
   "cell_type": "code",
   "execution_count": 10,
   "id": "ce2ed3b1",
   "metadata": {},
   "outputs": [],
   "source": [
    "def count_coefs(A, b):  # считаем alpha и beta\n",
    "    alpha = np.array(np.zeros((A.shape[0], A.shape[0])))\n",
    "    beta = np.array(np.zeros(b.shape[0]))\n",
    "    for i in range(A.shape[0]):\n",
    "        for j in range(A.shape[0]):\n",
    "            if i != j:\n",
    "                alpha[i][j] = - A[i][j] / A[i][i]\n",
    "                beta[i] = b[i] / A[i][i]\n",
    "            else:\n",
    "                alpha[i][i] = 0\n",
    "    return alpha, beta"
   ]
  },
  {
   "cell_type": "code",
   "execution_count": 11,
   "id": "8dac9614",
   "metadata": {},
   "outputs": [],
   "source": [
    "def simple_iteration_method(alpha, beta, x, eps):  # метод простой итерации\n",
    "    n_iter=1\n",
    "    err = eps + 1\n",
    "    while err > eps:\n",
    "        err = np.linalg.norm(np.dot(alpha, x) + beta - x)\n",
    "        x = np.dot(alpha, x) + beta\n",
    "        n_iter += 1\n",
    "    x = np.dot(alpha, x) + beta\n",
    "    return x, n_iter"
   ]
  },
  {
   "cell_type": "code",
   "execution_count": 12,
   "id": "9ec44137",
   "metadata": {},
   "outputs": [],
   "source": [
    "def seidel_method(A, b, eps): # функция возвращает x  и кол-во итераций для сравнения\n",
    "    n_iter = 0\n",
    "    x = np.array(np.zeros((b.shape[0])))\n",
    "    err = eps + 1\n",
    "    while err > eps:\n",
    "        x_n = x.copy()\n",
    "        for i in range(A.shape[0]):\n",
    "            x1 = sum(A[i][j] * x_n[j] for j in range(i))\n",
    "            x2 = sum(A[i][j] * x[j] for j in range(i + 1, A.shape[0]))\n",
    "            x_n[i] = (b[i] - x1 - x2)/A[i][i]\n",
    "        err = np.linalg.norm(x_n - x)\n",
    "        n_iter += 1\n",
    "        x = x_n\n",
    "    return x, n_iter"
   ]
  },
  {
   "cell_type": "markdown",
   "id": "a2f5add6",
   "metadata": {},
   "source": [
    "# Print results"
   ]
  },
  {
   "cell_type": "code",
   "execution_count": 13,
   "id": "0e56185a",
   "metadata": {},
   "outputs": [],
   "source": [
    "def print_result(A):\n",
    "    pretty_view(A)\n",
    "    x_w = np.random.uniform(0, 100, size=A.shape[0])\n",
    "    b = count_b(A, x_w)\n",
    "    alpha, beta = count_coefs(A, b)\n",
    "    table=[['Приближение', \"n_iter м. простых итераций\",\"n_iter м. Зейделя\", \n",
    "                'x - x_sim', 'x - x_seid']]\n",
    "    for eps in (1e-4, 1e-7, 1e-10, 1e-13):\n",
    "        row=[]\n",
    "        row.append(eps)\n",
    "        x_sim, n_iter_1 = simple_iteration_method(alpha, beta, beta, eps)\n",
    "        x_seid, n_iter_2 = seidel_method(A, b, eps)\n",
    "        row.append(n_iter_1)\n",
    "        row.append(n_iter_2)\n",
    "        row.append(np.linalg.norm(x_w - x_sim))\n",
    "        row.append(np.linalg.norm(x_w- x_seid))\n",
    "        table.append(row)\n",
    "    return print(tabulate(table, tablefmt='fancy_grid', numalign=\"right\"))"
   ]
  },
  {
   "cell_type": "code",
   "execution_count": 16,
   "id": "2475dff1",
   "metadata": {},
   "outputs": [],
   "source": [
    "list_of_matrixes=[a1, a2, h2, diag_m]"
   ]
  },
  {
   "cell_type": "code",
   "execution_count": 17,
   "id": "a5998e02",
   "metadata": {},
   "outputs": [
    {
     "data": {
      "text/html": [
       "<div>\n",
       "<style scoped>\n",
       "    .dataframe tbody tr th:only-of-type {\n",
       "        vertical-align: middle;\n",
       "    }\n",
       "\n",
       "    .dataframe tbody tr th {\n",
       "        vertical-align: top;\n",
       "    }\n",
       "\n",
       "    .dataframe thead th {\n",
       "        text-align: right;\n",
       "    }\n",
       "</style>\n",
       "<table border=\"1\" class=\"dataframe\">\n",
       "  <thead>\n",
       "    <tr style=\"text-align: right;\">\n",
       "      <th></th>\n",
       "      <th>1</th>\n",
       "      <th>2</th>\n",
       "    </tr>\n",
       "  </thead>\n",
       "  <tbody>\n",
       "    <tr>\n",
       "      <th>1</th>\n",
       "      <td>-401.52000000</td>\n",
       "      <td>200.16000000</td>\n",
       "    </tr>\n",
       "    <tr>\n",
       "      <th>2</th>\n",
       "      <td>1200.96000000</td>\n",
       "      <td>-601.68000000</td>\n",
       "    </tr>\n",
       "  </tbody>\n",
       "</table>\n",
       "</div>"
      ],
      "text/plain": [
       "              1             2\n",
       "1 -401.52000000  200.16000000\n",
       "2 1200.96000000 -601.68000000"
      ]
     },
     "metadata": {},
     "output_type": "display_data"
    },
    {
     "name": "stdout",
     "output_type": "stream",
     "text": [
      "╒═════════════╤════════════════════════════╤═══════════════════╤════════════════════════╤════════════════════════╕\n",
      "│ Приближение │ n_iter м. простых итераций │ n_iter м. Зейделя │ x - x_sim              │ x - x_seid             │\n",
      "├─────────────┼────────────────────────────┼───────────────────┼────────────────────────┼────────────────────────┤\n",
      "│ 0.0001      │ 5663                       │ 1624              │ 7.868875420336846e-05  │ 0.019953217023340516   │\n",
      "├─────────────┼────────────────────────────┼───────────────────┼────────────────────────┼────────────────────────┤\n",
      "│ 1e-07       │ 8431                       │ 3009              │ 7.886347970936201e-08  │ 1.9898673261481005e-05 │\n",
      "├─────────────┼────────────────────────────┼───────────────────┼────────────────────────┼────────────────────────┤\n",
      "│ 1e-10       │ 11199                      │ 4393              │ 7.654086267596506e-11  │ 1.993938385168084e-08  │\n",
      "├─────────────┼────────────────────────────┼───────────────────┼────────────────────────┼────────────────────────┤\n",
      "│ 1e-13       │ 12629                      │ 5760              │ 1.6335066880840797e-12 │ 1.7515176775418828e-11 │\n",
      "╘═════════════╧════════════════════════════╧═══════════════════╧════════════════════════╧════════════════════════╛\n"
     ]
    },
    {
     "data": {
      "text/html": [
       "<div>\n",
       "<style scoped>\n",
       "    .dataframe tbody tr th:only-of-type {\n",
       "        vertical-align: middle;\n",
       "    }\n",
       "\n",
       "    .dataframe tbody tr th {\n",
       "        vertical-align: top;\n",
       "    }\n",
       "\n",
       "    .dataframe thead th {\n",
       "        text-align: right;\n",
       "    }\n",
       "</style>\n",
       "<table border=\"1\" class=\"dataframe\">\n",
       "  <thead>\n",
       "    <tr style=\"text-align: right;\">\n",
       "      <th></th>\n",
       "      <th>1</th>\n",
       "      <th>2</th>\n",
       "    </tr>\n",
       "  </thead>\n",
       "  <tbody>\n",
       "    <tr>\n",
       "      <th>1</th>\n",
       "      <td>-403.15000000</td>\n",
       "      <td>200.95000000</td>\n",
       "    </tr>\n",
       "    <tr>\n",
       "      <th>2</th>\n",
       "      <td>1205.70000000</td>\n",
       "      <td>-604.10000000</td>\n",
       "    </tr>\n",
       "  </tbody>\n",
       "</table>\n",
       "</div>"
      ],
      "text/plain": [
       "              1             2\n",
       "1 -403.15000000  200.95000000\n",
       "2 1205.70000000 -604.10000000"
      ]
     },
     "metadata": {},
     "output_type": "display_data"
    },
    {
     "name": "stdout",
     "output_type": "stream",
     "text": [
      "╒═════════════╤════════════════════════════╤═══════════════════╤════════════════════════╤════════════════════════╕\n",
      "│ Приближение │ n_iter м. простых итераций │ n_iter м. Зейделя │ x - x_sim              │ x - x_seid             │\n",
      "├─────────────┼────────────────────────────┼───────────────────┼────────────────────────┼────────────────────────┤\n",
      "│ 0.0001      │ 5239                       │ 1645              │ 0.0001484510563130723  │ 0.01917289180989704    │\n",
      "├─────────────┼────────────────────────────┼───────────────────┼────────────────────────┼────────────────────────┤\n",
      "│ 1e-07       │ 7907                       │ 2979              │ 1.4874495539679205e-07 │ 1.921103868789505e-05  │\n",
      "├─────────────┼────────────────────────────┼───────────────────┼────────────────────────┼────────────────────────┤\n",
      "│ 1e-10       │ 10575                      │ 4313              │ 1.47703150991286e-10   │ 1.9246727682406012e-08 │\n",
      "├─────────────┼────────────────────────────┼───────────────────┼────────────────────────┼────────────────────────┤\n",
      "│ 1e-13       │ 11887                      │ 5630              │ 6.101158685597755e-12  │ 1.8455764551503746e-11 │\n",
      "╘═════════════╧════════════════════════════╧═══════════════════╧════════════════════════╧════════════════════════╛\n"
     ]
    },
    {
     "data": {
      "text/html": [
       "<div>\n",
       "<style scoped>\n",
       "    .dataframe tbody tr th:only-of-type {\n",
       "        vertical-align: middle;\n",
       "    }\n",
       "\n",
       "    .dataframe tbody tr th {\n",
       "        vertical-align: top;\n",
       "    }\n",
       "\n",
       "    .dataframe thead th {\n",
       "        text-align: right;\n",
       "    }\n",
       "</style>\n",
       "<table border=\"1\" class=\"dataframe\">\n",
       "  <thead>\n",
       "    <tr style=\"text-align: right;\">\n",
       "      <th></th>\n",
       "      <th>1</th>\n",
       "      <th>2</th>\n",
       "    </tr>\n",
       "  </thead>\n",
       "  <tbody>\n",
       "    <tr>\n",
       "      <th>1</th>\n",
       "      <td>1.00000000</td>\n",
       "      <td>0.50000000</td>\n",
       "    </tr>\n",
       "    <tr>\n",
       "      <th>2</th>\n",
       "      <td>0.50000000</td>\n",
       "      <td>0.33333333</td>\n",
       "    </tr>\n",
       "  </tbody>\n",
       "</table>\n",
       "</div>"
      ],
      "text/plain": [
       "           1          2\n",
       "1 1.00000000 0.50000000\n",
       "2 0.50000000 0.33333333"
      ]
     },
     "metadata": {},
     "output_type": "display_data"
    },
    {
     "name": "stdout",
     "output_type": "stream",
     "text": [
      "╒═════════════╤════════════════════════════╤═══════════════════╤═══════════════════════╤════════════════════════╕\n",
      "│ Приближение │ n_iter м. простых итераций │ n_iter м. Зейделя │ x - x_sim             │ x - x_seid             │\n",
      "├─────────────┼────────────────────────────┼───────────────────┼───────────────────────┼────────────────────────┤\n",
      "│ 0.0001      │ 101                        │ 45                │ 3.874501200301462e-05 │ 0.00023462513472999615 │\n",
      "├─────────────┼────────────────────────────┼───────────────────┼───────────────────────┼────────────────────────┤\n",
      "│ 1e-07       │ 149                        │ 69                │ 3.887635460969505e-08 │ 2.3542080912929293e-07 │\n",
      "├─────────────┼────────────────────────────┼───────────────────┼───────────────────────┼────────────────────────┤\n",
      "│ 1e-10       │ 197                        │ 93                │ 3.897097284112373e-11 │ 2.362227857710748e-10  │\n",
      "├─────────────┼────────────────────────────┼───────────────────┼───────────────────────┼────────────────────────┤\n",
      "│ 1e-13       │ 244                        │ 117               │ 8.556067554929069e-14 │ 2.404323753877496e-13  │\n",
      "╘═════════════╧════════════════════════════╧═══════════════════╧═══════════════════════╧════════════════════════╛\n"
     ]
    },
    {
     "data": {
      "text/html": [
       "<div>\n",
       "<style scoped>\n",
       "    .dataframe tbody tr th:only-of-type {\n",
       "        vertical-align: middle;\n",
       "    }\n",
       "\n",
       "    .dataframe tbody tr th {\n",
       "        vertical-align: top;\n",
       "    }\n",
       "\n",
       "    .dataframe thead th {\n",
       "        text-align: right;\n",
       "    }\n",
       "</style>\n",
       "<table border=\"1\" class=\"dataframe\">\n",
       "  <thead>\n",
       "    <tr style=\"text-align: right;\">\n",
       "      <th></th>\n",
       "      <th>1</th>\n",
       "      <th>2</th>\n",
       "      <th>3</th>\n",
       "      <th>4</th>\n",
       "      <th>5</th>\n",
       "    </tr>\n",
       "  </thead>\n",
       "  <tbody>\n",
       "    <tr>\n",
       "      <th>1</th>\n",
       "      <td>6</td>\n",
       "      <td>-1</td>\n",
       "      <td>0</td>\n",
       "      <td>0</td>\n",
       "      <td>0</td>\n",
       "    </tr>\n",
       "    <tr>\n",
       "      <th>2</th>\n",
       "      <td>-1</td>\n",
       "      <td>6</td>\n",
       "      <td>-1</td>\n",
       "      <td>0</td>\n",
       "      <td>0</td>\n",
       "    </tr>\n",
       "    <tr>\n",
       "      <th>3</th>\n",
       "      <td>0</td>\n",
       "      <td>-1</td>\n",
       "      <td>6</td>\n",
       "      <td>-1</td>\n",
       "      <td>0</td>\n",
       "    </tr>\n",
       "    <tr>\n",
       "      <th>4</th>\n",
       "      <td>0</td>\n",
       "      <td>0</td>\n",
       "      <td>-1</td>\n",
       "      <td>6</td>\n",
       "      <td>-1</td>\n",
       "    </tr>\n",
       "    <tr>\n",
       "      <th>5</th>\n",
       "      <td>0</td>\n",
       "      <td>0</td>\n",
       "      <td>0</td>\n",
       "      <td>-1</td>\n",
       "      <td>6</td>\n",
       "    </tr>\n",
       "  </tbody>\n",
       "</table>\n",
       "</div>"
      ],
      "text/plain": [
       "   1  2  3  4  5\n",
       "1  6 -1  0  0  0\n",
       "2 -1  6 -1  0  0\n",
       "3  0 -1  6 -1  0\n",
       "4  0  0 -1  6 -1\n",
       "5  0  0  0 -1  6"
      ]
     },
     "metadata": {},
     "output_type": "display_data"
    },
    {
     "name": "stdout",
     "output_type": "stream",
     "text": [
      "╒═════════════╤════════════════════════════╤═══════════════════╤════════════════════════╤════════════════════════╕\n",
      "│ Приближение │ n_iter м. простых итераций │ n_iter м. Зейделя │ x - x_sim              │ x - x_seid             │\n",
      "├─────────────┼────────────────────────────┼───────────────────┼────────────────────────┼────────────────────────┤\n",
      "│ 0.0001      │ 12                         │ 8                 │ 1.0514450570319884e-05 │ 6.211373377866592e-06  │\n",
      "├─────────────┼────────────────────────────┼───────────────────┼────────────────────────┼────────────────────────┤\n",
      "│ 1e-07       │ 18                         │ 11                │ 6.084757265850861e-09  │ 3.6040805168533608e-09 │\n",
      "├─────────────┼────────────────────────────┼───────────────────┼────────────────────────┼────────────────────────┤\n",
      "│ 1e-10       │ 24                         │ 14                │ 3.5305363662987126e-12 │ 2.089993095218002e-12  │\n",
      "├─────────────┼────────────────────────────┼───────────────────┼────────────────────────┼────────────────────────┤\n",
      "│ 1e-13       │ 29                         │ 17                │ 1.9539925233402755e-14 │ 0.0                    │\n",
      "╘═════════════╧════════════════════════════╧═══════════════════╧════════════════════════╧════════════════════════╛\n"
     ]
    }
   ],
   "source": [
    "for matrix in list_of_matrixes:\n",
    "    print_result(matrix)"
   ]
  }
 ],
 "metadata": {
  "kernelspec": {
   "display_name": "Python 3 (ipykernel)",
   "language": "python",
   "name": "python3"
  },
  "language_info": {
   "codemirror_mode": {
    "name": "ipython",
    "version": 3
   },
   "file_extension": ".py",
   "mimetype": "text/x-python",
   "name": "python",
   "nbconvert_exporter": "python",
   "pygments_lexer": "ipython3",
   "version": "3.9.6"
  },
  "toc": {
   "base_numbering": 1,
   "nav_menu": {},
   "number_sections": false,
   "sideBar": true,
   "skip_h1_title": false,
   "title_cell": "Table of Contents",
   "title_sidebar": "Contents",
   "toc_cell": false,
   "toc_position": {},
   "toc_section_display": true,
   "toc_window_display": false
  }
 },
 "nbformat": 4,
 "nbformat_minor": 5
}
