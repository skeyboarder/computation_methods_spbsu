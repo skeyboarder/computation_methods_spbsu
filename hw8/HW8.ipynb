{
 "cells": [
  {
   "cell_type": "code",
   "execution_count": 37,
   "id": "e91ffdf2",
   "metadata": {
    "scrolled": true
   },
   "outputs": [],
   "source": [
    "import numpy as np\n",
    "import matplotlib.pyplot as plt\n",
    "import sympy as sym\n",
    "\n",
    "from sympy import *"
   ]
  },
  {
   "cell_type": "markdown",
   "id": "687d14ad",
   "metadata": {},
   "source": [
    "Общий вид краевой задачи:\n",
    "\n",
    "$$k * u_{xx} + p * u_x + q * u = f$$\n",
    "$$u(a)=u_z, u(b)=u_b$$\n",
    " "
   ]
  },
  {
   "cell_type": "code",
   "execution_count": 38,
   "id": "0b469cef",
   "metadata": {},
   "outputs": [],
   "source": [
    "def jacobi_pol(k, n):\n",
    "    x = sym.symbols('x')\n",
    "    p = np.zeros(n + 1, dtype=sym.Symbol)\n",
    "    p[0] = 1\n",
    "    if n == 1:\n",
    "        p[1] = (k + 1) * x\n",
    "    if n != 1 and n != 0:\n",
    "        p[1] = (k + 1) * x\n",
    "        for i in range(n - 1):\n",
    "            p[i + 2] = ((i + k + 2) * (2 * i + 2 * k + 3) * x * p[i + 1] - (i + k + 2) *\n",
    "                        (i + k + 1) * p[i]) / ((i + 2 * k + 2) * (i + 2))\n",
    "    return p"
   ]
  },
  {
   "cell_type": "code",
   "execution_count": 39,
   "id": "5606aa5b",
   "metadata": {},
   "outputs": [],
   "source": [
    "def phi_s(N):\n",
    "    k = 1\n",
    "    phi = (1 - x * x) * jacobi_pol(k, N)\n",
    "    dphi = np.zeros(N + 1, dtype=sym.Symbol)\n",
    "    ddphi = np.zeros(N + 1, dtype=sym.Symbol)\n",
    "    for i in range(N + 1):\n",
    "        dphi[i] = sym.diff(phi[i], x, 1)\n",
    "    for i in range(N + 1):\n",
    "        ddphi[i] = sym.diff((dphi[i]), x, 1)\n",
    "    return phi, dphi, ddphi"
   ]
  },
  {
   "cell_type": "code",
   "execution_count": 40,
   "id": "6bf9a2c9",
   "metadata": {},
   "outputs": [],
   "source": [
    "def galerkin_method(N):\n",
    "    A = np.zeros(N + 1, dtype=sym.Symbol)\n",
    "    B = np.zeros(N + 1)\n",
    "    C = np.zeros((N + 1, N + 1))\n",
    "    phi, dphi, ddphi = phi_s(N)\n",
    "    for i in range(N + 1):\n",
    "        A[i] = k * ddphi[i] + p * dphi[i] + q * phi[i]\n",
    "        B[i] = sym.integrate(f * phi[i], (x, a, b))\n",
    "    for i in range(N + 1):\n",
    "        for j in range(N + 1):\n",
    "            C[i, j] = sym.integrate((A[j]) * phi[i], (x, a, b))\n",
    "    alpha = np.linalg.solve(C, B)\n",
    "    u = 0\n",
    "    for i in range(0, N + 1):\n",
    "        u += alpha[i] * phi[i]\n",
    "    return u"
   ]
  },
  {
   "cell_type": "code",
   "execution_count": 41,
   "id": "a763dcf7",
   "metadata": {},
   "outputs": [],
   "source": [
    "n=3"
   ]
  },
  {
   "cell_type": "markdown",
   "id": "6ebd48f5",
   "metadata": {},
   "source": [
    "$n=1:$\n",
    "$$-\\frac{1}{x-3}u^{\\prime\\prime}(x)+\\left(1+\\frac{x}{2}\\right)u^\\prime(x)+\\exp{\\frac{x}{2}}u(x)=2 - x,$$\n",
    "    $$ u(-1)=u(1)=0.$$"
   ]
  },
  {
   "cell_type": "code",
   "execution_count": 42,
   "id": "fbbbe71e",
   "metadata": {},
   "outputs": [],
   "source": [
    "if n == 1:\n",
    "    u_a = 0\n",
    "    u_b = 0\n",
    "    a = -1\n",
    "    b = 1\n",
    "    x = sym.symbols('x')\n",
    "    k = -1 / (x - 3)\n",
    "    p = 1 + x / 2\n",
    "    q = exp(x / 2)\n",
    "    f = 2 - x"
   ]
  },
  {
   "cell_type": "markdown",
   "id": "403c6340",
   "metadata": {},
   "source": [
    "$n=2:$\n",
    "    $$-\\frac{4-x}{5-2x}u^{\\prime\\prime}(x)+\\frac{1-x}{2}u^\\prime(x)+\\frac{1}{2}\\ln(3+x)u(x)=1+\\frac{x}{3},$$\n",
    "    $$u(-1)=u(1)=0.$$"
   ]
  },
  {
   "cell_type": "code",
   "execution_count": 43,
   "id": "15bfc06c",
   "metadata": {},
   "outputs": [],
   "source": [
    "if n == 2:\n",
    "    u_a = 0  \n",
    "    u_b = 0\n",
    "    a = -1\n",
    "    b = 1\n",
    "    x = sym.symbols('x')\n",
    "    k = -(4 - x) / (5 - 2 * x)\n",
    "    p = (1 - x) / 2\n",
    "    q = (ln(3 + x)) / 2\n",
    "    f = 1 + x / 3"
   ]
  },
  {
   "cell_type": "markdown",
   "id": "22849bea",
   "metadata": {},
   "source": [
    "$n=3:$\n",
    "$$-\\frac{7-x}{8+3x}u^{\\prime\\prime}(x)+\\left(1+\\frac{x}{3}\\right)u^\\prime(x)+\\left(1-\\frac{1}{2}\\exp{\\frac{x}{2}}\\right)u(x)=\\frac{1}{2}-\\frac{x}{3},$$\n",
    "    $$u(-1)=u(1)=0.$$"
   ]
  },
  {
   "cell_type": "code",
   "execution_count": 44,
   "id": "f627e840",
   "metadata": {},
   "outputs": [],
   "source": [
    "if n == 3:\n",
    "    u_a = 0 \n",
    "    u_b = 0\n",
    "    a = -1\n",
    "    b = 1\n",
    "    x = sym.symbols('x')\n",
    "    k = - (7 - x) / (8 + 3 * x)\n",
    "    p = 1 + x / 3\n",
    "    q = 1 - exp(x / 2) / 2\n",
    "    f = 1 / 2 - x / 3"
   ]
  },
  {
   "cell_type": "markdown",
   "id": "18c81dfc",
   "metadata": {},
   "source": [
    "Рисуем графики"
   ]
  },
  {
   "cell_type": "code",
   "execution_count": 45,
   "id": "1f031275",
   "metadata": {},
   "outputs": [
    {
     "data": {
      "image/png": "[encoded data removed]",
      "text/plain": [
       "<Figure size 432x288 with 1 Axes>"
      ]
     },
     "metadata": {
      "needs_background": "light"
     },
     "output_type": "display_data"
    }
   ],
   "source": [
    "N = 2\n",
    "u = galerkin_method(N)\n",
    "h = 0.1\n",
    "n = round((b - a) / h)\n",
    "x1 = np.zeros(n + 1)\n",
    "y = np.zeros(n + 1, dtype=sym.Symbol)\n",
    "for i in range(n + 1):\n",
    "    x1[i] = a + i * h\n",
    "    y[i] = u.subs(x, x1[i])\n",
    "plt.plot(x1, y, marker='.', color='red', mec='blue', ms=10)\n",
    "plt.xlabel('x')\n",
    "plt.ylabel('y')\n",
    "plt.grid(True)\n",
    "plt.show()"
   ]
  }
 ],
 "metadata": {
  "kernelspec": {
   "display_name": "Python 3 (ipykernel)",
   "language": "python",
   "name": "python3"
  },
  "language_info": {
   "codemirror_mode": {
    "name": "ipython",
    "version": 3
   },
   "file_extension": ".py",
   "mimetype": "text/x-python",
   "name": "python",
   "nbconvert_exporter": "python",
   "pygments_lexer": "ipython3",
   "version": "3.9.6"
  },
  "toc": {
   "base_numbering": 1,
   "nav_menu": {},
   "number_sections": false,
   "sideBar": true,
   "skip_h1_title": false,
   "title_cell": "Table of Contents",
   "title_sidebar": "Contents",
   "toc_cell": false,
   "toc_position": {},
   "toc_section_display": true,
   "toc_window_display": false
  }
 },
 "nbformat": 4,
 "nbformat_minor": 5
}
