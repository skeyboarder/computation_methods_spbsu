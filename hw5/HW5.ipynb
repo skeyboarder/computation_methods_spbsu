{
 "cells": [
  {
   "cell_type": "code",
   "execution_count": 1,
   "id": "49da5528",
   "metadata": {},
   "outputs": [],
   "source": [
    "import numpy as np\n",
    "import pandas as pd\n",
    "from scipy import linalg\n",
    "from math import sqrt\n",
    "from tabulate import tabulate"
   ]
  },
  {
   "cell_type": "code",
   "execution_count": 2,
   "id": "86469270",
   "metadata": {},
   "outputs": [],
   "source": [
    "np.set_printoptions(formatter={'float_kind':\"{:.8f}\".format})\n",
    "pd.options.display.float_format = '{:.8f}'.format"
   ]
  },
  {
   "cell_type": "markdown",
   "id": "868c4eaf",
   "metadata": {},
   "source": [
    "# Data creation"
   ]
  },
  {
   "cell_type": "code",
   "execution_count": 3,
   "id": "13a62953",
   "metadata": {},
   "outputs": [],
   "source": [
    "def pretty_view(a):\n",
    "    pret=pd.DataFrame(data=a, index=list(range(1, a.shape[0]+1)), columns=list(range(1, a.shape[1]+1)))\n",
    "    display(pret)"
   ]
  },
  {
   "cell_type": "markdown",
   "id": "cd06b7ac",
   "metadata": {},
   "source": [
    "Hilbert matrices of order 4, 5"
   ]
  },
  {
   "cell_type": "code",
   "execution_count": 4,
   "id": "1786fcad",
   "metadata": {
    "scrolled": false
   },
   "outputs": [
    {
     "data": {
      "text/html": [
       "<div>\n",
       "<style scoped>\n",
       "    .dataframe tbody tr th:only-of-type {\n",
       "        vertical-align: middle;\n",
       "    }\n",
       "\n",
       "    .dataframe tbody tr th {\n",
       "        vertical-align: top;\n",
       "    }\n",
       "\n",
       "    .dataframe thead th {\n",
       "        text-align: right;\n",
       "    }\n",
       "</style>\n",
       "<table border=\"1\" class=\"dataframe\">\n",
       "  <thead>\n",
       "    <tr style=\"text-align: right;\">\n",
       "      <th></th>\n",
       "      <th>1</th>\n",
       "      <th>2</th>\n",
       "      <th>3</th>\n",
       "      <th>4</th>\n",
       "    </tr>\n",
       "  </thead>\n",
       "  <tbody>\n",
       "    <tr>\n",
       "      <th>1</th>\n",
       "      <td>1.00000000</td>\n",
       "      <td>0.50000000</td>\n",
       "      <td>0.33333333</td>\n",
       "      <td>0.25000000</td>\n",
       "    </tr>\n",
       "    <tr>\n",
       "      <th>2</th>\n",
       "      <td>0.50000000</td>\n",
       "      <td>0.33333333</td>\n",
       "      <td>0.25000000</td>\n",
       "      <td>0.20000000</td>\n",
       "    </tr>\n",
       "    <tr>\n",
       "      <th>3</th>\n",
       "      <td>0.33333333</td>\n",
       "      <td>0.25000000</td>\n",
       "      <td>0.20000000</td>\n",
       "      <td>0.16666667</td>\n",
       "    </tr>\n",
       "    <tr>\n",
       "      <th>4</th>\n",
       "      <td>0.25000000</td>\n",
       "      <td>0.20000000</td>\n",
       "      <td>0.16666667</td>\n",
       "      <td>0.14285714</td>\n",
       "    </tr>\n",
       "  </tbody>\n",
       "</table>\n",
       "</div>"
      ],
      "text/plain": [
       "           1          2          3          4\n",
       "1 1.00000000 0.50000000 0.33333333 0.25000000\n",
       "2 0.50000000 0.33333333 0.25000000 0.20000000\n",
       "3 0.33333333 0.25000000 0.20000000 0.16666667\n",
       "4 0.25000000 0.20000000 0.16666667 0.14285714"
      ]
     },
     "metadata": {},
     "output_type": "display_data"
    }
   ],
   "source": [
    "h4=linalg.hilbert(4)\n",
    "pretty_view(h4)"
   ]
  },
  {
   "cell_type": "code",
   "execution_count": 5,
   "id": "d594b031",
   "metadata": {
    "scrolled": false
   },
   "outputs": [
    {
     "data": {
      "text/html": [
       "<div>\n",
       "<style scoped>\n",
       "    .dataframe tbody tr th:only-of-type {\n",
       "        vertical-align: middle;\n",
       "    }\n",
       "\n",
       "    .dataframe tbody tr th {\n",
       "        vertical-align: top;\n",
       "    }\n",
       "\n",
       "    .dataframe thead th {\n",
       "        text-align: right;\n",
       "    }\n",
       "</style>\n",
       "<table border=\"1\" class=\"dataframe\">\n",
       "  <thead>\n",
       "    <tr style=\"text-align: right;\">\n",
       "      <th></th>\n",
       "      <th>1</th>\n",
       "      <th>2</th>\n",
       "      <th>3</th>\n",
       "      <th>4</th>\n",
       "      <th>5</th>\n",
       "    </tr>\n",
       "  </thead>\n",
       "  <tbody>\n",
       "    <tr>\n",
       "      <th>1</th>\n",
       "      <td>1.00000000</td>\n",
       "      <td>0.50000000</td>\n",
       "      <td>0.33333333</td>\n",
       "      <td>0.25000000</td>\n",
       "      <td>0.20000000</td>\n",
       "    </tr>\n",
       "    <tr>\n",
       "      <th>2</th>\n",
       "      <td>0.50000000</td>\n",
       "      <td>0.33333333</td>\n",
       "      <td>0.25000000</td>\n",
       "      <td>0.20000000</td>\n",
       "      <td>0.16666667</td>\n",
       "    </tr>\n",
       "    <tr>\n",
       "      <th>3</th>\n",
       "      <td>0.33333333</td>\n",
       "      <td>0.25000000</td>\n",
       "      <td>0.20000000</td>\n",
       "      <td>0.16666667</td>\n",
       "      <td>0.14285714</td>\n",
       "    </tr>\n",
       "    <tr>\n",
       "      <th>4</th>\n",
       "      <td>0.25000000</td>\n",
       "      <td>0.20000000</td>\n",
       "      <td>0.16666667</td>\n",
       "      <td>0.14285714</td>\n",
       "      <td>0.12500000</td>\n",
       "    </tr>\n",
       "    <tr>\n",
       "      <th>5</th>\n",
       "      <td>0.20000000</td>\n",
       "      <td>0.16666667</td>\n",
       "      <td>0.14285714</td>\n",
       "      <td>0.12500000</td>\n",
       "      <td>0.11111111</td>\n",
       "    </tr>\n",
       "  </tbody>\n",
       "</table>\n",
       "</div>"
      ],
      "text/plain": [
       "           1          2          3          4          5\n",
       "1 1.00000000 0.50000000 0.33333333 0.25000000 0.20000000\n",
       "2 0.50000000 0.33333333 0.25000000 0.20000000 0.16666667\n",
       "3 0.33333333 0.25000000 0.20000000 0.16666667 0.14285714\n",
       "4 0.25000000 0.20000000 0.16666667 0.14285714 0.12500000\n",
       "5 0.20000000 0.16666667 0.14285714 0.12500000 0.11111111"
      ]
     },
     "metadata": {},
     "output_type": "display_data"
    }
   ],
   "source": [
    "h5=linalg.hilbert(5)\n",
    "pretty_view(h5)"
   ]
  },
  {
   "cell_type": "markdown",
   "id": "2ad322bb",
   "metadata": {},
   "source": [
    "Diagonally dominant matrix"
   ]
  },
  {
   "cell_type": "markdown",
   "id": "55a85524",
   "metadata": {},
   "source": [
    "# Methods realisation"
   ]
  },
  {
   "cell_type": "code",
   "execution_count": 6,
   "id": "8dac9614",
   "metadata": {},
   "outputs": [],
   "source": [
    "def power_method(A, eps):\n",
    "    x_0 = np.array(np.ones(A.shape[0]))\n",
    "    max_eig = 0\n",
    "    n_iter = 0\n",
    "    while True:\n",
    "        n_iter += 1\n",
    "        x_1 = np.dot(A, x_0)\n",
    "        if abs(x_1[0] / x_0[0] - max_eig) < eps:\n",
    "            max_eig = x_1[0] / x_0[0]\n",
    "            break\n",
    "        max_eig = x_1[0] / x_0[0]\n",
    "        x_0 = x_1\n",
    "    return max_eig, n_iter"
   ]
  },
  {
   "cell_type": "code",
   "execution_count": 7,
   "id": "9ec44137",
   "metadata": {},
   "outputs": [],
   "source": [
    "def scalar_method(A, eps):\n",
    "    x_0 = np.array(np.ones(A.shape[0]))\n",
    "    y_0 = np.array(np.ones(A.shape[0]))\n",
    "    max_eig = 0\n",
    "    n_iter = 0\n",
    "    while True:\n",
    "        n_iter += 1\n",
    "        x_1 = np.dot(A, x_0)\n",
    "        y_1 = np.dot(A.T, y_0)\n",
    "        if abs(np.dot(x_1, y_1) / np.dot(x_0, y_1) - max_eig) < eps:\n",
    "            max_eig = np.dot(x_1, y_1) / np.dot(x_0, y_1)\n",
    "            break\n",
    "        max_eig = np.dot(x_1, y_1) / np.dot(x_0, y_1)\n",
    "        x_0 = x_1\n",
    "        y_0 = y_1\n",
    "    return max_eig, n_iter"
   ]
  },
  {
   "cell_type": "markdown",
   "id": "a2f5add6",
   "metadata": {},
   "source": [
    "# Print results"
   ]
  },
  {
   "cell_type": "code",
   "execution_count": 8,
   "id": "0e56185a",
   "metadata": {},
   "outputs": [],
   "source": [
    "def print_result(A):\n",
    "    pretty_view(A)\n",
    "    np_max_eig = max(abs(np.linalg.eig(A)[0]))\n",
    "    table=[['Приближение', \"n_iter степенной\",\"n_iter скалярный\", \n",
    "                'np_eig - pow_eig', 'np_eig - scal_eig']]\n",
    "    for eps in (1e-2, 1e-3, 1e-4, 1e-5):\n",
    "        row=[]\n",
    "        row.append(eps)\n",
    "        pow_eig, n_iter_1 = power_method(A, eps)\n",
    "        scal_eig, n_iter_2 = scalar_method(A, eps)\n",
    "        row.append(n_iter_1)\n",
    "        row.append(n_iter_2)\n",
    "        row.append(np.linalg.norm(np_max_eig - pow_eig))\n",
    "        row.append(np.linalg.norm(np_max_eig- scal_eig))\n",
    "        table.append(row)\n",
    "    return print(tabulate(table, tablefmt='fancy_grid', numalign=\"right\"))"
   ]
  },
  {
   "cell_type": "code",
   "execution_count": 9,
   "id": "2475dff1",
   "metadata": {},
   "outputs": [],
   "source": [
    "list_of_matrixes=[h4, h5]"
   ]
  },
  {
   "cell_type": "code",
   "execution_count": 10,
   "id": "a5998e02",
   "metadata": {
    "scrolled": false
   },
   "outputs": [
    {
     "data": {
      "text/html": [
       "<div>\n",
       "<style scoped>\n",
       "    .dataframe tbody tr th:only-of-type {\n",
       "        vertical-align: middle;\n",
       "    }\n",
       "\n",
       "    .dataframe tbody tr th {\n",
       "        vertical-align: top;\n",
       "    }\n",
       "\n",
       "    .dataframe thead th {\n",
       "        text-align: right;\n",
       "    }\n",
       "</style>\n",
       "<table border=\"1\" class=\"dataframe\">\n",
       "  <thead>\n",
       "    <tr style=\"text-align: right;\">\n",
       "      <th></th>\n",
       "      <th>1</th>\n",
       "      <th>2</th>\n",
       "      <th>3</th>\n",
       "      <th>4</th>\n",
       "    </tr>\n",
       "  </thead>\n",
       "  <tbody>\n",
       "    <tr>\n",
       "      <th>1</th>\n",
       "      <td>1.00000000</td>\n",
       "      <td>0.50000000</td>\n",
       "      <td>0.33333333</td>\n",
       "      <td>0.25000000</td>\n",
       "    </tr>\n",
       "    <tr>\n",
       "      <th>2</th>\n",
       "      <td>0.50000000</td>\n",
       "      <td>0.33333333</td>\n",
       "      <td>0.25000000</td>\n",
       "      <td>0.20000000</td>\n",
       "    </tr>\n",
       "    <tr>\n",
       "      <th>3</th>\n",
       "      <td>0.33333333</td>\n",
       "      <td>0.25000000</td>\n",
       "      <td>0.20000000</td>\n",
       "      <td>0.16666667</td>\n",
       "    </tr>\n",
       "    <tr>\n",
       "      <th>4</th>\n",
       "      <td>0.25000000</td>\n",
       "      <td>0.20000000</td>\n",
       "      <td>0.16666667</td>\n",
       "      <td>0.14285714</td>\n",
       "    </tr>\n",
       "  </tbody>\n",
       "</table>\n",
       "</div>"
      ],
      "text/plain": [
       "           1          2          3          4\n",
       "1 1.00000000 0.50000000 0.33333333 0.25000000\n",
       "2 0.50000000 0.33333333 0.25000000 0.20000000\n",
       "3 0.33333333 0.25000000 0.20000000 0.16666667\n",
       "4 0.25000000 0.20000000 0.16666667 0.14285714"
      ]
     },
     "metadata": {},
     "output_type": "display_data"
    },
    {
     "name": "stdout",
     "output_type": "stream",
     "text": [
      "╒═════════════╤══════════════════╤══════════════════╤═══════════════════════╤═══════════════════════╕\n",
      "│ Приближение │ n_iter степенной │ n_iter скалярный │ np_eig - pow_eig      │ np_eig - scal_eig     │\n",
      "├─────────────┼──────────────────┼──────────────────┼───────────────────────┼───────────────────────┤\n",
      "│ 0.01        │ 4                │ 3                │ 0.000625661090738916  │ 4.832066194504492e-06 │\n",
      "├─────────────┼──────────────────┼──────────────────┼───────────────────────┼───────────────────────┤\n",
      "│ 0.001       │ 5                │ 3                │ 7.051089044129988e-05 │ 4.832066194504492e-06 │\n",
      "├─────────────┼──────────────────┼──────────────────┼───────────────────────┼───────────────────────┤\n",
      "│ 0.0001      │ 6                │ 4                │ 7.94935753334336e-06  │ 6.142239605821942e-08 │\n",
      "├─────────────┼──────────────────┼──────────────────┼───────────────────────┼───────────────────────┤\n",
      "│ 1e-05       │ 7                │ 4                │ 8.962432478387683e-07 │ 6.142239605821942e-08 │\n",
      "╘═════════════╧══════════════════╧══════════════════╧═══════════════════════╧═══════════════════════╛\n"
     ]
    },
    {
     "data": {
      "text/html": [
       "<div>\n",
       "<style scoped>\n",
       "    .dataframe tbody tr th:only-of-type {\n",
       "        vertical-align: middle;\n",
       "    }\n",
       "\n",
       "    .dataframe tbody tr th {\n",
       "        vertical-align: top;\n",
       "    }\n",
       "\n",
       "    .dataframe thead th {\n",
       "        text-align: right;\n",
       "    }\n",
       "</style>\n",
       "<table border=\"1\" class=\"dataframe\">\n",
       "  <thead>\n",
       "    <tr style=\"text-align: right;\">\n",
       "      <th></th>\n",
       "      <th>1</th>\n",
       "      <th>2</th>\n",
       "      <th>3</th>\n",
       "      <th>4</th>\n",
       "      <th>5</th>\n",
       "    </tr>\n",
       "  </thead>\n",
       "  <tbody>\n",
       "    <tr>\n",
       "      <th>1</th>\n",
       "      <td>1.00000000</td>\n",
       "      <td>0.50000000</td>\n",
       "      <td>0.33333333</td>\n",
       "      <td>0.25000000</td>\n",
       "      <td>0.20000000</td>\n",
       "    </tr>\n",
       "    <tr>\n",
       "      <th>2</th>\n",
       "      <td>0.50000000</td>\n",
       "      <td>0.33333333</td>\n",
       "      <td>0.25000000</td>\n",
       "      <td>0.20000000</td>\n",
       "      <td>0.16666667</td>\n",
       "    </tr>\n",
       "    <tr>\n",
       "      <th>3</th>\n",
       "      <td>0.33333333</td>\n",
       "      <td>0.25000000</td>\n",
       "      <td>0.20000000</td>\n",
       "      <td>0.16666667</td>\n",
       "      <td>0.14285714</td>\n",
       "    </tr>\n",
       "    <tr>\n",
       "      <th>4</th>\n",
       "      <td>0.25000000</td>\n",
       "      <td>0.20000000</td>\n",
       "      <td>0.16666667</td>\n",
       "      <td>0.14285714</td>\n",
       "      <td>0.12500000</td>\n",
       "    </tr>\n",
       "    <tr>\n",
       "      <th>5</th>\n",
       "      <td>0.20000000</td>\n",
       "      <td>0.16666667</td>\n",
       "      <td>0.14285714</td>\n",
       "      <td>0.12500000</td>\n",
       "      <td>0.11111111</td>\n",
       "    </tr>\n",
       "  </tbody>\n",
       "</table>\n",
       "</div>"
      ],
      "text/plain": [
       "           1          2          3          4          5\n",
       "1 1.00000000 0.50000000 0.33333333 0.25000000 0.20000000\n",
       "2 0.50000000 0.33333333 0.25000000 0.20000000 0.16666667\n",
       "3 0.33333333 0.25000000 0.20000000 0.16666667 0.14285714\n",
       "4 0.25000000 0.20000000 0.16666667 0.14285714 0.12500000\n",
       "5 0.20000000 0.16666667 0.14285714 0.12500000 0.11111111"
      ]
     },
     "metadata": {},
     "output_type": "display_data"
    },
    {
     "name": "stdout",
     "output_type": "stream",
     "text": [
      "╒═════════════╤══════════════════╤══════════════════╤════════════════════════╤════════════════════════╕\n",
      "│ Приближение │ n_iter степенной │ n_iter скалярный │ np_eig - pow_eig       │ np_eig - scal_eig      │\n",
      "├─────────────┼──────────────────┼──────────────────┼────────────────────────┼────────────────────────┤\n",
      "│ 0.01        │ 4                │ 3                │ 0.001221369082482715   │ 1.3406487584743942e-05 │\n",
      "├─────────────┼──────────────────┼──────────────────┼────────────────────────┼────────────────────────┤\n",
      "│ 0.001       │ 6                │ 3                │ 2.1610229907320644e-05 │ 1.3406487584743942e-05 │\n",
      "├─────────────┼──────────────────┼──────────────────┼────────────────────────┼────────────────────────┤\n",
      "│ 0.0001      │ 7                │ 4                │ 2.875727316054011e-06  │ 2.3741478982763908e-07 │\n",
      "├─────────────┼──────────────────┼──────────────────┼────────────────────────┼────────────────────────┤\n",
      "│ 1e-05       │ 8                │ 5                │ 3.8268478186331834e-07 │ 4.204325332324288e-09  │\n",
      "╘═════════════╧══════════════════╧══════════════════╧════════════════════════╧════════════════════════╛\n"
     ]
    }
   ],
   "source": [
    "for matrix in list_of_matrixes:\n",
    "    print_result(matrix)"
   ]
  }
 ],
 "metadata": {
  "kernelspec": {
   "display_name": "Python 3 (ipykernel)",
   "language": "python",
   "name": "python3"
  },
  "language_info": {
   "codemirror_mode": {
    "name": "ipython",
    "version": 3
   },
   "file_extension": ".py",
   "mimetype": "text/x-python",
   "name": "python",
   "nbconvert_exporter": "python",
   "pygments_lexer": "ipython3",
   "version": "3.9.6"
  },
  "toc": {
   "base_numbering": 1,
   "nav_menu": {},
   "number_sections": false,
   "sideBar": true,
   "skip_h1_title": false,
   "title_cell": "Table of Contents",
   "title_sidebar": "Contents",
   "toc_cell": false,
   "toc_position": {},
   "toc_section_display": true,
   "toc_window_display": false
  }
 },
 "nbformat": 4,
 "nbformat_minor": 5
}
