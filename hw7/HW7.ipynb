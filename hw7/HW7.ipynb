{
 "cells": [
  {
   "cell_type": "code",
   "execution_count": 1,
   "id": "666d092a",
   "metadata": {},
   "outputs": [],
   "source": [
    "import numpy as np\n",
    "import math\n",
    "import matplotlib.pyplot as plt"
   ]
  },
  {
   "cell_type": "markdown",
   "id": "11c28d08",
   "metadata": {},
   "source": [
    "Общий вид краевой задачи:\n",
    "\n",
    "$k * u_{xx} + p * u_x + q * u = f$\n",
    "\n",
    "Общий вид граничных условий:\n",
    "\n",
    " $\\alpha_0 * y_0(a) + \\alpha_1 * y'_0(a) = A_p$\n",
    " \n",
    " $\\beta_0 * y_n(b) + \\beta_1 * y'_n(b) = B_p$\n",
    " "
   ]
  },
  {
   "cell_type": "markdown",
   "id": "aba05290",
   "metadata": {},
   "source": [
    "n=1: $-u'' + x^2 * u = (pi^2 / 4 + x^2) * cos(pi * x / 2)    u(0) = 1, u(1) = 0$ (пример из Амосова)\n",
    "\n",
    "\n",
    "n=2: $-1 / (x+3) * u''- x * u' + ln(2 + x) * u = 1 - x / 2    u′(−1) = u′(1) + 1 / 2 * u(1) = 0$  (5 вариант из Пакулиной)\n",
    "\n",
    "\n",
    "n=3: $((x - 2) / (x + 2)) * u'' + x * u' + (1 - sin(x)) * u = x^2    u(-1) = u(1) = 0$  (6 вариант из Пакулиной)"
   ]
  },
  {
   "cell_type": "markdown",
   "id": "30b54347",
   "metadata": {},
   "source": [
    "Для каждого из коэфициентов создадим функцию, которая будет возвращать по заданному n, те значения, которые заданы в условиях выше. Название каждой функции соответствует коэфициенту."
   ]
  },
  {
   "cell_type": "code",
   "execution_count": 2,
   "id": "0a624a97",
   "metadata": {},
   "outputs": [],
   "source": [
    "def k(x):\n",
    "    if n == 1:\n",
    "        return -1\n",
    "    if n == 2:\n",
    "        return -1 / (x + 3)\n",
    "    if n == 3:\n",
    "        return (x - 2) / (x + 2)\n",
    "\n",
    "\n",
    "def p(x):\n",
    "    if n == 1:\n",
    "        return 0\n",
    "    if n == 2:\n",
    "        return -x\n",
    "    if n == 3:\n",
    "        return x\n",
    "\n",
    "\n",
    "def q(x):\n",
    "    if n == 1:\n",
    "        return x ** 2\n",
    "    if n == 2:\n",
    "        return math.log(2 + x)\n",
    "    if n == 3:\n",
    "        return 1 - math.sin(x)\n",
    "\n",
    "\n",
    "def f(x):\n",
    "    if n == 1:\n",
    "        return (math.pi ** 2 / 4 + x ** 2) * math.cos(math.pi * x / 2)\n",
    "    if n == 2:\n",
    "        return 1 - x / 2\n",
    "    if n == 3:\n",
    "        return x * x\n",
    "\n",
    "\n",
    "def a():\n",
    "    if n == 1:\n",
    "        return 0\n",
    "    if n == 2:\n",
    "        return -1\n",
    "    if n == 3:\n",
    "        return -1\n",
    "\n",
    "\n",
    "def b():\n",
    "    if n == 1:\n",
    "        return 1\n",
    "    if n == 2:\n",
    "        return 1\n",
    "    if n == 3:\n",
    "        return 1\n",
    "\n",
    "\n",
    "def A_p():\n",
    "    if n == 1:\n",
    "        return 1\n",
    "    if n == 2:\n",
    "        return 0\n",
    "    if n == 3:\n",
    "        return 0\n",
    "\n",
    "\n",
    "def B_p():\n",
    "    if n == 1:\n",
    "        return 0\n",
    "    if n == 2:\n",
    "        return 0\n",
    "    if n == 3:\n",
    "        return 0\n",
    "\n",
    "\n",
    "def alpha0():\n",
    "    if n == 1:\n",
    "        return 1\n",
    "    if n == 2:\n",
    "        return 0\n",
    "    if n == 3:\n",
    "        return 1\n",
    "\n",
    "\n",
    "def alpha1():\n",
    "    if n == 1:\n",
    "        return 0\n",
    "    if n == 2:\n",
    "        return 1\n",
    "    if n == 3:\n",
    "        return 0\n",
    "\n",
    "\n",
    "def beta0():\n",
    "    if n == 1:\n",
    "        return 1\n",
    "    if n == 2:\n",
    "        return 1 / 2\n",
    "    if n == 3:\n",
    "        return 1\n",
    "\n",
    "\n",
    "def beta1():\n",
    "    if n == 1:\n",
    "        return 0\n",
    "    if n == 2:\n",
    "        return 1\n",
    "    if n == 3:\n",
    "        return 0"
   ]
  },
  {
   "cell_type": "markdown",
   "id": "0765aa2e",
   "metadata": {},
   "source": [
    "Найдём коэффициенты по формулам"
   ]
  },
  {
   "cell_type": "code",
   "execution_count": 3,
   "id": "078bd112",
   "metadata": {},
   "outputs": [],
   "source": [
    "def find_coef(a, b, alpha0, alpha1, beta0, beta1, A_c, B_c, h):\n",
    "    n = round((b - a) / h)\n",
    "    x = np.zeros(n + 1, dtype=float)\n",
    "    for i in range(n + 1):\n",
    "        x[i] = a + i * h\n",
    "    A = np.zeros(n + 1, dtype=float)\n",
    "    B = np.zeros(n + 1, dtype=float)\n",
    "    C = np.zeros(n + 1, dtype=float)\n",
    "    D = np.zeros(n + 1, dtype=float)\n",
    "    A[0] = 0\n",
    "    A[n] = -beta1\n",
    "    B[0] = h * alpha0 - alpha1\n",
    "    B[n] = h * beta0 + beta1\n",
    "    C[0] = alpha1\n",
    "    C[n] = 0\n",
    "    D[0] = h * A_c\n",
    "    D[n] = h * B_c\n",
    "    for i in range(1, n):\n",
    "        A[i] = 2 * k(x[i]) - h * p(x[i])\n",
    "        B[i] = -4 * k(x[i]) + 2 * h * h * q(x[i])\n",
    "        C[i] = 2 * k(x[i]) + h * p(x[i])\n",
    "        D[i] = 2 * h * h * f(x[i])\n",
    "    return A, B, C, D"
   ]
  },
  {
   "cell_type": "markdown",
   "id": "fa00c89c",
   "metadata": {},
   "source": [
    "Находим решение"
   ]
  },
  {
   "cell_type": "code",
   "execution_count": 4,
   "id": "c20d0dd4",
   "metadata": {},
   "outputs": [],
   "source": [
    "def find_solution(a, b, alpha0, alpha1, beta0, beta1, A_c, B_c, h):\n",
    "    n = round((b - a) / h)\n",
    "    A, B, C, D = find_coef(a, b, alpha0, alpha1, beta0, beta1, A_c, B_c, h)\n",
    "    s = np.zeros(n + 1, dtype=float)\n",
    "    t = np.zeros(n + 1, dtype=float)\n",
    "    y = np.zeros(n + 1, dtype=float)\n",
    "    s[0] = - C[0] / B[0]\n",
    "    t[0] = D[0] / B[0]\n",
    "    for i in range(1, n + 1):\n",
    "        s[i] = -C[i] / (A[i] * s[i - 1] + B[i])\n",
    "        t[i] = (D[i] - A[i] * t[i - 1]) / (A[i] * s[i - 1] + B[i])\n",
    "    y[n] = t[n]\n",
    "    for i in range(n - 1, -1, -1):\n",
    "        y[i] = s[i] * y[i + 1] + t[i]\n",
    "    return y"
   ]
  },
  {
   "cell_type": "markdown",
   "id": "7eced390",
   "metadata": {},
   "source": [
    "Для контроля точности используем метод сгущения сетки"
   ]
  },
  {
   "cell_type": "code",
   "execution_count": 5,
   "id": "ee6db2ae",
   "metadata": {},
   "outputs": [],
   "source": [
    "def grid(a, b, alpha0, alpha1, beta0, beta1, A_c, B_c, h, eps):\n",
    "    coef = 2\n",
    "    k = 0\n",
    "    v2 = find_solution(a, b, alpha0, alpha1, beta0, beta1, A_c, B_c, h)\n",
    "    while True:\n",
    "        k += 1\n",
    "        v1 = v2\n",
    "        v2 = find_solution(a, b, alpha0, alpha1, beta0, beta1, A_c, B_c, h / (coef ** k))\n",
    "        err = np.zeros(v1.shape[0], dtype=float)\n",
    "        for i in range(v1.shape[0]):\n",
    "            err[i] = (v2[i * 2] - v1[i]) / (coef ** 1 - 1)\n",
    "        if np.linalg.norm(err) < eps:\n",
    "            for i in range(n + 1):\n",
    "                if i % 2 == 0:\n",
    "                    v2[i * 2] += err[i]\n",
    "                else:\n",
    "                    v2[i] += (err[i - 1] + err[i + 1]) / 2\n",
    "            x = np.zeros(v2.shape[0], dtype=float)\n",
    "            for i in range(v2.shape[0]):\n",
    "                x[i] = a + i * h / (coef ** k)\n",
    "            return x, v2, h / (coef ** k), k\n",
    "\n",
    "\n"
   ]
  },
  {
   "cell_type": "markdown",
   "id": "2b42ca0d",
   "metadata": {},
   "source": [
    "Рисуем картинки"
   ]
  },
  {
   "cell_type": "code",
   "execution_count": 6,
   "id": "d6e782d3",
   "metadata": {},
   "outputs": [
    {
     "name": "stdout",
     "output_type": "stream",
     "text": [
      "Погрешность 0.0001\n",
      "Шаг конечной сетки = 0.00390625\n",
      "Количество шагов сгущения сетки: 5\n"
     ]
    },
    {
     "data": {
      "image/png": "[encoded data removed]",
      "text/plain": [
       "<Figure size 432x288 with 1 Axes>"
      ]
     },
     "metadata": {
      "needs_background": "light"
     },
     "output_type": "display_data"
    }
   ],
   "source": [
    "n = 3\n",
    "h = 1/8\n",
    "eps = 1e-4\n",
    "x, y, h_new, k = grid(a(), b(), alpha0(), alpha1(), beta0(), beta1(), A_p(), B_p(), h, eps)\n",
    "print(\"Погрешность\", eps)\n",
    "print(\"Шаг конечной сетки =\", h_new)\n",
    "print(\"Количество шагов сгущения сетки:\", k)\n",
    "plt.plot(x, y, marker='.', color='red', mec='blue', ms=10)\n",
    "plt.xlabel('x')\n",
    "plt.ylabel('y')\n",
    "plt.grid(True)\n",
    "plt.show()\n"
   ]
  }
 ],
 "metadata": {
  "kernelspec": {
   "display_name": "Python 3 (ipykernel)",
   "language": "python",
   "name": "python3"
  },
  "language_info": {
   "codemirror_mode": {
    "name": "ipython",
    "version": 3
   },
   "file_extension": ".py",
   "mimetype": "text/x-python",
   "name": "python",
   "nbconvert_exporter": "python",
   "pygments_lexer": "ipython3",
   "version": "3.9.6"
  },
  "toc": {
   "base_numbering": 1,
   "nav_menu": {},
   "number_sections": false,
   "sideBar": true,
   "skip_h1_title": false,
   "title_cell": "Table of Contents",
   "title_sidebar": "Contents",
   "toc_cell": false,
   "toc_position": {},
   "toc_section_display": true,
   "toc_window_display": false
  }
 },
 "nbformat": 4,
 "nbformat_minor": 5
}
